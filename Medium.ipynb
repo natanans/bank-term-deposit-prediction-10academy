{
  "nbformat": 4,
  "nbformat_minor": 0,
  "metadata": {
    "colab": {
      "name": "Copy_of_week6_Copy.ipynb",
      "provenance": []
    },
    "kernelspec": {
      "display_name": "Python 3",
      "language": "python",
      "name": "python3"
    },
    "language_info": {
      "codemirror_mode": {
        "name": "ipython",
        "version": 3
      },
      "file_extension": ".py",
      "mimetype": "text/x-python",
      "name": "python",
      "nbconvert_exporter": "python",
      "pygments_lexer": "ipython3",
      "version": "3.7.6"
    }
  },
  "cells": [
    {
      "cell_type": "markdown",
      "metadata": {
        "colab_type": "text",
        "id": "q32yPcBbHGmU"
      },
      "source": [
        "# Data Preproccesing"
      ]
    },
    {
      "cell_type": "markdown",
      "metadata": {
        "colab_type": "text",
        "id": "JdbJBPXFHGmW"
      },
      "source": [
        "## Import Modules ========================================================================="
      ]
    },
    {
      "cell_type": "markdown",
      "metadata": {
        "colab_type": "text",
        "id": "HrrTrzATHGmX"
      },
      "source": [
        "**Importing** these necessary modules is a first step in this phase of preprocessing. \n",
        "They are used later to \n",
        "plot graphs,\n",
        "compute complex mathematical equations and \n",
        "organize data."
      ]
    },
    {
      "cell_type": "code",
      "metadata": {
        "id": "Z_95Phih3pua",
        "colab_type": "code",
        "colab": {}
      },
      "source": [
        "\n"
      ],
      "execution_count": 99,
      "outputs": []
    },
    {
      "cell_type": "code",
      "metadata": {
        "colab_type": "code",
        "id": "2pzW9B_BmhOv",
        "colab": {}
      },
      "source": [
        "import preprocessing\n",
        "import model\n",
        "import imports\n",
        "from preprocessing import check_integrity"
      ],
      "execution_count": 89,
      "outputs": []
    },
    {
      "cell_type": "markdown",
      "metadata": {
        "colab_type": "text",
        "id": "AS0ABTJqHGmk"
      },
      "source": [
        "## Fetch Data ========================================================================="
      ]
    },
    {
      "cell_type": "markdown",
      "metadata": {
        "colab_type": "text",
        "id": "ZvT03sDJHGml"
      },
      "source": [
        "Fetch data for **preprocessing** and display it."
      ]
    },
    {
      "cell_type": "code",
      "metadata": {
        "colab_type": "code",
        "id": "BTYAMcnSHqIk",
        "colab": {}
      },
      "source": [
        "from pydrive.auth import GoogleAuth\n",
        "from pydrive.drive import GoogleDrive\n",
        "from google.colab import auth\n",
        "from oauth2client.client import GoogleCredentials"
      ],
      "execution_count": 8,
      "outputs": []
    },
    {
      "cell_type": "code",
      "metadata": {
        "colab_type": "code",
        "id": "M9N62aKzHtXc",
        "colab": {}
      },
      "source": [
        "auth.authenticate_user()\n",
        "gauth = GoogleAuth()\n",
        "gauth.credentials = GoogleCredentials.get_application_default()\n",
        "drive = GoogleDrive(gauth)"
      ],
      "execution_count": 9,
      "outputs": []
    },
    {
      "cell_type": "code",
      "metadata": {
        "colab_type": "code",
        "id": "AkbH2YGnHvc9",
        "colab": {}
      },
      "source": [
        "downloaded = drive.CreateFile({'id':\"1_pLP6m_qHm6kSc1KiNzHaQ1FjGNIWQ3B\"})   # replace the id with id of file you want to access\n",
        "downloaded.GetContentFile('bank-additional-full.csv')"
      ],
      "execution_count": 10,
      "outputs": []
    },
    {
      "cell_type": "code",
      "metadata": {
        "colab_type": "code",
        "id": "VhiXT3JQHxjc",
        "colab": {}
      },
      "source": [
        "data = pd.read_csv('bank-additional-full.csv', sep=';'  , engine='python')"
      ],
      "execution_count": 18,
      "outputs": []
    },
    {
      "cell_type": "code",
      "metadata": {
        "colab_type": "code",
        "id": "eBA1pvMsHGmq",
        "colab": {
          "base_uri": "https://localhost:8080/",
          "height": 162
        },
        "outputId": "be12667a-31fe-415f-de41-4a0d6275ea59"
      },
      "source": [
        "data.sample(3)"
      ],
      "execution_count": null,
      "outputs": [
        {
          "output_type": "execute_result",
          "data": {
            "text/html": [
              "<div>\n",
              "<style scoped>\n",
              "    .dataframe tbody tr th:only-of-type {\n",
              "        vertical-align: middle;\n",
              "    }\n",
              "\n",
              "    .dataframe tbody tr th {\n",
              "        vertical-align: top;\n",
              "    }\n",
              "\n",
              "    .dataframe thead th {\n",
              "        text-align: right;\n",
              "    }\n",
              "</style>\n",
              "<table border=\"1\" class=\"dataframe\">\n",
              "  <thead>\n",
              "    <tr style=\"text-align: right;\">\n",
              "      <th></th>\n",
              "      <th>age</th>\n",
              "      <th>job</th>\n",
              "      <th>marital</th>\n",
              "      <th>education</th>\n",
              "      <th>default</th>\n",
              "      <th>housing</th>\n",
              "      <th>loan</th>\n",
              "      <th>contact</th>\n",
              "      <th>month</th>\n",
              "      <th>day_of_week</th>\n",
              "      <th>duration</th>\n",
              "      <th>campaign</th>\n",
              "      <th>pdays</th>\n",
              "      <th>previous</th>\n",
              "      <th>poutcome</th>\n",
              "      <th>emp.var.rate</th>\n",
              "      <th>cons.price.idx</th>\n",
              "      <th>cons.conf.idx</th>\n",
              "      <th>euribor3m</th>\n",
              "      <th>nr.employed</th>\n",
              "      <th>y</th>\n",
              "    </tr>\n",
              "  </thead>\n",
              "  <tbody>\n",
              "    <tr>\n",
              "      <th>27953</th>\n",
              "      <td>32</td>\n",
              "      <td>admin.</td>\n",
              "      <td>single</td>\n",
              "      <td>university.degree</td>\n",
              "      <td>no</td>\n",
              "      <td>yes</td>\n",
              "      <td>no</td>\n",
              "      <td>cellular</td>\n",
              "      <td>mar</td>\n",
              "      <td>mon</td>\n",
              "      <td>364</td>\n",
              "      <td>3</td>\n",
              "      <td>999</td>\n",
              "      <td>0</td>\n",
              "      <td>nonexistent</td>\n",
              "      <td>-1.8</td>\n",
              "      <td>92.843</td>\n",
              "      <td>-50.0</td>\n",
              "      <td>1.520</td>\n",
              "      <td>5099.1</td>\n",
              "      <td>yes</td>\n",
              "    </tr>\n",
              "    <tr>\n",
              "      <th>41098</th>\n",
              "      <td>29</td>\n",
              "      <td>student</td>\n",
              "      <td>single</td>\n",
              "      <td>high.school</td>\n",
              "      <td>no</td>\n",
              "      <td>yes</td>\n",
              "      <td>yes</td>\n",
              "      <td>cellular</td>\n",
              "      <td>nov</td>\n",
              "      <td>thu</td>\n",
              "      <td>289</td>\n",
              "      <td>1</td>\n",
              "      <td>3</td>\n",
              "      <td>3</td>\n",
              "      <td>success</td>\n",
              "      <td>-1.1</td>\n",
              "      <td>94.767</td>\n",
              "      <td>-50.8</td>\n",
              "      <td>1.050</td>\n",
              "      <td>4963.6</td>\n",
              "      <td>yes</td>\n",
              "    </tr>\n",
              "    <tr>\n",
              "      <th>35585</th>\n",
              "      <td>38</td>\n",
              "      <td>admin.</td>\n",
              "      <td>single</td>\n",
              "      <td>university.degree</td>\n",
              "      <td>no</td>\n",
              "      <td>yes</td>\n",
              "      <td>no</td>\n",
              "      <td>cellular</td>\n",
              "      <td>may</td>\n",
              "      <td>mon</td>\n",
              "      <td>98</td>\n",
              "      <td>5</td>\n",
              "      <td>999</td>\n",
              "      <td>0</td>\n",
              "      <td>nonexistent</td>\n",
              "      <td>-1.8</td>\n",
              "      <td>92.893</td>\n",
              "      <td>-46.2</td>\n",
              "      <td>1.244</td>\n",
              "      <td>5099.1</td>\n",
              "      <td>no</td>\n",
              "    </tr>\n",
              "  </tbody>\n",
              "</table>\n",
              "</div>"
            ],
            "text/plain": [
              "       age      job marital  ... euribor3m nr.employed    y\n",
              "27953   32   admin.  single  ...     1.520      5099.1  yes\n",
              "41098   29  student  single  ...     1.050      4963.6  yes\n",
              "35585   38   admin.  single  ...     1.244      5099.1   no\n",
              "\n",
              "[3 rows x 21 columns]"
            ]
          },
          "metadata": {
            "tags": []
          },
          "execution_count": 107
        }
      ]
    },
    {
      "cell_type": "markdown",
      "metadata": {
        "colab_type": "text",
        "id": "1BuM5FdkHGmu"
      },
      "source": [
        "## Check Data Integrity ========================================================================="
      ]
    },
    {
      "cell_type": "markdown",
      "metadata": {
        "colab_type": "text",
        "id": "nsV_QePLHGmv"
      },
      "source": [
        "Here data is checked for appropriate entries. For example sometimes numbers  are entered as both **integer data** types and **string** data types. "
      ]
    },
    {
      "cell_type": "code",
      "metadata": {
        "colab_type": "code",
        "id": "J7vBrlxzHGmw",
        "colab": {
          "base_uri": "https://localhost:8080/",
          "height": 34
        },
        "outputId": "624f65c0-45a9-4fa7-97ca-ea66a1dd85e9"
      },
      "source": [
        "data=data.drop_duplicates()"
      ],
      "execution_count": 19,
      "outputs": [
        {
          "output_type": "execute_result",
          "data": {
            "text/plain": [
              "True"
            ]
          },
          "metadata": {
            "tags": []
          },
          "execution_count": 19
        }
      ]
    },
    {
      "cell_type": "code",
      "metadata": {
        "colab_type": "code",
        "id": "ltjwus7mHGm2",
        "colab": {
          "base_uri": "https://localhost:8080/",
          "height": 1000
        },
        "outputId": "cb5597db-a2a4-403f-8804-812677c83e6b"
      },
      "source": [
        "check_integrity(data)"
      ],
      "execution_count": 20,
      "outputs": [
        {
          "output_type": "stream",
          "text": [
            "===============================================================================\n",
            "age\n",
            "Has 0 missing values\n",
            "int64\n",
            "===============================================================================\n",
            "[56 57 37 40 45 59 41 24 25 29 35 54 46 50 39 30 55 49 34 52 58 32 38 44\n",
            " 42 60 53 47 51 48 33 31 43 36 28 27 26 22 23 20 21 61 19 18 70 66 76 67\n",
            " 73 88 95 77 68 75 63 80 62 65 72 82 64 71 69 78 85 79 83 81 74 17 87 91\n",
            " 86 98 94 84 92 89]\n",
            "===============================================================================\n",
            "job\n",
            "Has 0 missing values\n",
            "object\n",
            "===============================================================================\n",
            "['housemaid' 'services' 'admin.' 'blue-collar' 'technician' 'retired'\n",
            " 'management' 'unemployed' 'self-employed' 'unknown' 'entrepreneur'\n",
            " 'student']\n",
            "===============================================================================\n",
            "marital\n",
            "Has 0 missing values\n",
            "object\n",
            "===============================================================================\n",
            "['married' 'single' 'divorced' 'unknown']\n",
            "===============================================================================\n",
            "education\n",
            "Has 0 missing values\n",
            "object\n",
            "===============================================================================\n",
            "['basic.4y' 'high.school' 'basic.6y' 'basic.9y' 'professional.course'\n",
            " 'unknown' 'university.degree' 'illiterate']\n",
            "===============================================================================\n",
            "default\n",
            "Has 0 missing values\n",
            "object\n",
            "===============================================================================\n",
            "['no' 'unknown' 'yes']\n",
            "===============================================================================\n",
            "housing\n",
            "Has 0 missing values\n",
            "object\n",
            "===============================================================================\n",
            "['no' 'yes' 'unknown']\n",
            "===============================================================================\n",
            "loan\n",
            "Has 0 missing values\n",
            "object\n",
            "===============================================================================\n",
            "['no' 'yes' 'unknown']\n",
            "===============================================================================\n",
            "contact\n",
            "Has 0 missing values\n",
            "object\n",
            "===============================================================================\n",
            "['telephone' 'cellular']\n",
            "===============================================================================\n",
            "month\n",
            "Has 0 missing values\n",
            "object\n",
            "===============================================================================\n",
            "['may' 'jun' 'jul' 'aug' 'oct' 'nov' 'dec' 'mar' 'apr' 'sep']\n",
            "===============================================================================\n",
            "day_of_week\n",
            "Has 0 missing values\n",
            "object\n",
            "===============================================================================\n",
            "['mon' 'tue' 'wed' 'thu' 'fri']\n",
            "===============================================================================\n",
            "duration\n",
            "Has 0 missing values\n",
            "int64\n",
            "===============================================================================\n",
            "[ 261  149  226 ... 1246 1556 1868]\n",
            "===============================================================================\n",
            "campaign\n",
            "Has 0 missing values\n",
            "int64\n",
            "===============================================================================\n",
            "[ 1  2  3  4  5  6  7  8  9 10 11 12 13 19 18 23 14 22 25 16 17 15 20 56\n",
            " 39 35 42 28 26 27 32 21 24 29 31 30 41 37 40 33 34 43]\n",
            "===============================================================================\n",
            "pdays\n",
            "Has 0 missing values\n",
            "int64\n",
            "===============================================================================\n",
            "[999   6   4   3   5   1   0  10   7   8   9  11   2  12  13  14  15  16\n",
            "  21  17  18  22  25  26  19  27  20]\n",
            "===============================================================================\n",
            "previous\n",
            "Has 0 missing values\n",
            "int64\n",
            "===============================================================================\n",
            "[0 1 2 3 4 5 6 7]\n",
            "===============================================================================\n",
            "poutcome\n",
            "Has 0 missing values\n",
            "object\n",
            "===============================================================================\n",
            "['nonexistent' 'failure' 'success']\n",
            "===============================================================================\n",
            "emp.var.rate\n",
            "Has 0 missing values\n",
            "float64\n",
            "===============================================================================\n",
            "[ 1.1  1.4 -0.1 -0.2 -1.8 -2.9 -3.4 -3.  -1.7 -1.1]\n",
            "===============================================================================\n",
            "cons.price.idx\n",
            "Has 0 missing values\n",
            "float64\n",
            "===============================================================================\n",
            "[93.994 94.465 93.918 93.444 93.798 93.2   92.756 92.843 93.075 92.893\n",
            " 92.963 92.469 92.201 92.379 92.431 92.649 92.713 93.369 93.749 93.876\n",
            " 94.055 94.215 94.027 94.199 94.601 94.767]\n",
            "===============================================================================\n",
            "cons.conf.idx\n",
            "Has 0 missing values\n",
            "float64\n",
            "===============================================================================\n",
            "[-36.4 -41.8 -42.7 -36.1 -40.4 -42.  -45.9 -50.  -47.1 -46.2 -40.8 -33.6\n",
            " -31.4 -29.8 -26.9 -30.1 -33.  -34.8 -34.6 -40.  -39.8 -40.3 -38.3 -37.5\n",
            " -49.5 -50.8]\n",
            "===============================================================================\n",
            "euribor3m\n",
            "Has 0 missing values\n",
            "float64\n",
            "===============================================================================\n",
            "[4.857 4.856 4.855 4.859 4.86  4.858 4.864 4.865 4.866 4.967 4.961 4.959\n",
            " 4.958 4.96  4.962 4.955 4.947 4.956 4.966 4.963 4.957 4.968 4.97  4.965\n",
            " 4.964 5.045 5.    4.936 4.921 4.918 4.912 4.827 4.794 4.76  4.733 4.7\n",
            " 4.663 4.592 4.474 4.406 4.343 4.286 4.245 4.223 4.191 4.153 4.12  4.076\n",
            " 4.021 3.901 3.879 3.853 3.816 3.743 3.669 3.563 3.488 3.428 3.329 3.282\n",
            " 3.053 1.811 1.799 1.778 1.757 1.726 1.703 1.687 1.663 1.65  1.64  1.629\n",
            " 1.614 1.602 1.584 1.574 1.56  1.556 1.548 1.538 1.531 1.52  1.51  1.498\n",
            " 1.483 1.479 1.466 1.453 1.445 1.435 1.423 1.415 1.41  1.405 1.406 1.4\n",
            " 1.392 1.384 1.372 1.365 1.354 1.344 1.334 1.327 1.313 1.299 1.291 1.281\n",
            " 1.266 1.25  1.244 1.259 1.264 1.27  1.262 1.26  1.268 1.286 1.252 1.235\n",
            " 1.224 1.215 1.206 1.099 1.085 1.072 1.059 1.048 1.044 1.029 1.018 1.007\n",
            " 0.996 0.979 0.969 0.944 0.937 0.933 0.927 0.921 0.914 0.908 0.903 0.899\n",
            " 0.884 0.883 0.881 0.879 0.873 0.869 0.861 0.859 0.854 0.851 0.849 0.843\n",
            " 0.838 0.834 0.829 0.825 0.821 0.819 0.813 0.809 0.803 0.797 0.788 0.781\n",
            " 0.778 0.773 0.771 0.77  0.768 0.766 0.762 0.755 0.749 0.743 0.741 0.739\n",
            " 0.75  0.753 0.754 0.752 0.744 0.74  0.742 0.737 0.735 0.733 0.73  0.731\n",
            " 0.728 0.724 0.722 0.72  0.719 0.716 0.715 0.714 0.718 0.721 0.717 0.712\n",
            " 0.71  0.709 0.708 0.706 0.707 0.7   0.655 0.654 0.653 0.652 0.651 0.65\n",
            " 0.649 0.646 0.644 0.643 0.639 0.637 0.635 0.636 0.634 0.638 0.64  0.642\n",
            " 0.645 0.659 0.663 0.668 0.672 0.677 0.682 0.683 0.684 0.685 0.688 0.69\n",
            " 0.692 0.695 0.697 0.699 0.701 0.702 0.704 0.711 0.713 0.723 0.727 0.729\n",
            " 0.732 0.748 0.761 0.767 0.782 0.79  0.793 0.802 0.81  0.822 0.827 0.835\n",
            " 0.84  0.846 0.87  0.876 0.885 0.889 0.893 0.896 0.898 0.9   0.904 0.905\n",
            " 0.895 0.894 0.891 0.89  0.888 0.886 0.882 0.88  0.878 0.877 0.942 0.953\n",
            " 0.956 0.959 0.965 0.972 0.977 0.982 0.985 0.987 0.993 1.    1.008 1.016\n",
            " 1.025 1.032 1.037 1.043 1.045 1.047 1.05  1.049 1.046 1.041 1.04  1.039\n",
            " 1.035 1.03  1.031 1.028]\n",
            "===============================================================================\n",
            "nr.employed\n",
            "Has 0 missing values\n",
            "float64\n",
            "===============================================================================\n",
            "[5191.  5228.1 5195.8 5176.3 5099.1 5076.2 5017.5 5023.5 5008.7 4991.6\n",
            " 4963.6]\n",
            "===============================================================================\n",
            "y\n",
            "Has 0 missing values\n",
            "object\n",
            "===============================================================================\n",
            "['no' 'yes']\n"
          ],
          "name": "stdout"
        }
      ]
    },
    {
      "cell_type": "markdown",
      "metadata": {
        "colab_type": "text",
        "id": "wlAyRLA_HGm6"
      },
      "source": [
        "## Detecting Outliers =========================================================================\n"
      ]
    },
    {
      "cell_type": "markdown",
      "metadata": {
        "colab_type": "text",
        "id": "1E9yEbzRHGm7"
      },
      "source": [
        "### Define Functions"
      ]
    },
    {
      "cell_type": "markdown",
      "metadata": {
        "colab_type": "text",
        "id": "hkt3eeQ4HGnC"
      },
      "source": [
        "**Function** used to clean data."
      ]
    },
    {
      "cell_type": "code",
      "metadata": {
        "colab_type": "code",
        "id": "Ok5aPCDaHGnD",
        "colab": {}
      },
      "source": [
        "from preprocessing import clean"
      ],
      "execution_count": 21,
      "outputs": []
    },
    {
      "cell_type": "markdown",
      "metadata": {
        "colab_type": "text",
        "id": "RmFu2reMHGnJ"
      },
      "source": [
        "### Start Cleaning\n",
        "Feature that are only non-catagorical are ` cleaned ` for **outliers**. "
      ]
    },
    {
      "cell_type": "markdown",
      "metadata": {
        "colab_type": "text",
        "id": "svQxSSGHHGnK"
      },
      "source": [
        "First the ` campaign ` feature is displayed.It can seen that it **oultliers** are present at final section of the list. "
      ]
    },
    {
      "cell_type": "markdown",
      "metadata": {
        "colab_type": "text",
        "id": "98J4PR9jHGnL"
      },
      "source": [
        "#### Clean`  Campaign `"
      ]
    },
    {
      "cell_type": "markdown",
      "metadata": {
        "colab_type": "text",
        "id": "-LgmSFRXHGnM"
      },
      "source": [
        "Capture column before cleaning to observe change via plot."
      ]
    },
    {
      "cell_type": "code",
      "metadata": {
        "colab_type": "code",
        "id": "TWhN9tqqHGnN",
        "colab": {}
      },
      "source": [
        "campaign_before_clean=data.campaign\n"
      ],
      "execution_count": 22,
      "outputs": []
    },
    {
      "cell_type": "markdown",
      "metadata": {
        "colab_type": "text",
        "id": "9REmpZQHHGnS"
      },
      "source": [
        "Clean ` campaign `"
      ]
    },
    {
      "cell_type": "code",
      "metadata": {
        "colab_type": "code",
        "id": "26Y8ajZgJWFR",
        "colab": {
          "base_uri": "https://localhost:8080/",
          "height": 439
        },
        "outputId": "6c5d9416-3bce-4486-dd33-840a1309b103"
      },
      "source": [
        "data"
      ],
      "execution_count": 44,
      "outputs": [
        {
          "output_type": "execute_result",
          "data": {
            "text/html": [
              "<div>\n",
              "<style scoped>\n",
              "    .dataframe tbody tr th:only-of-type {\n",
              "        vertical-align: middle;\n",
              "    }\n",
              "\n",
              "    .dataframe tbody tr th {\n",
              "        vertical-align: top;\n",
              "    }\n",
              "\n",
              "    .dataframe thead th {\n",
              "        text-align: right;\n",
              "    }\n",
              "</style>\n",
              "<table border=\"1\" class=\"dataframe\">\n",
              "  <thead>\n",
              "    <tr style=\"text-align: right;\">\n",
              "      <th></th>\n",
              "      <th>age</th>\n",
              "      <th>job</th>\n",
              "      <th>marital</th>\n",
              "      <th>education</th>\n",
              "      <th>default</th>\n",
              "      <th>housing</th>\n",
              "      <th>loan</th>\n",
              "      <th>contact</th>\n",
              "      <th>month</th>\n",
              "      <th>day_of_week</th>\n",
              "      <th>duration</th>\n",
              "      <th>campaign</th>\n",
              "      <th>pdays</th>\n",
              "      <th>previous</th>\n",
              "      <th>poutcome</th>\n",
              "      <th>emp.var.rate</th>\n",
              "      <th>cons.price.idx</th>\n",
              "      <th>cons.conf.idx</th>\n",
              "      <th>euribor3m</th>\n",
              "      <th>nr.employed</th>\n",
              "      <th>y</th>\n",
              "      <th>year</th>\n",
              "    </tr>\n",
              "  </thead>\n",
              "  <tbody>\n",
              "    <tr>\n",
              "      <th>0</th>\n",
              "      <td>56</td>\n",
              "      <td>housemaid</td>\n",
              "      <td>married</td>\n",
              "      <td>basic.4y</td>\n",
              "      <td>no</td>\n",
              "      <td>no</td>\n",
              "      <td>no</td>\n",
              "      <td>telephone</td>\n",
              "      <td>may</td>\n",
              "      <td>mon</td>\n",
              "      <td>261.0</td>\n",
              "      <td>1.0</td>\n",
              "      <td>999</td>\n",
              "      <td>0</td>\n",
              "      <td>nonexistent</td>\n",
              "      <td>1.1</td>\n",
              "      <td>93.994</td>\n",
              "      <td>-36.4</td>\n",
              "      <td>4.857</td>\n",
              "      <td>5191.0</td>\n",
              "      <td>no</td>\n",
              "      <td>2008</td>\n",
              "    </tr>\n",
              "    <tr>\n",
              "      <th>1</th>\n",
              "      <td>57</td>\n",
              "      <td>services</td>\n",
              "      <td>married</td>\n",
              "      <td>high.school</td>\n",
              "      <td>unknown</td>\n",
              "      <td>no</td>\n",
              "      <td>no</td>\n",
              "      <td>telephone</td>\n",
              "      <td>may</td>\n",
              "      <td>mon</td>\n",
              "      <td>149.0</td>\n",
              "      <td>1.0</td>\n",
              "      <td>999</td>\n",
              "      <td>0</td>\n",
              "      <td>nonexistent</td>\n",
              "      <td>1.1</td>\n",
              "      <td>93.994</td>\n",
              "      <td>-36.4</td>\n",
              "      <td>4.857</td>\n",
              "      <td>5191.0</td>\n",
              "      <td>no</td>\n",
              "      <td>2008</td>\n",
              "    </tr>\n",
              "    <tr>\n",
              "      <th>2</th>\n",
              "      <td>37</td>\n",
              "      <td>services</td>\n",
              "      <td>married</td>\n",
              "      <td>high.school</td>\n",
              "      <td>no</td>\n",
              "      <td>yes</td>\n",
              "      <td>no</td>\n",
              "      <td>telephone</td>\n",
              "      <td>may</td>\n",
              "      <td>mon</td>\n",
              "      <td>226.0</td>\n",
              "      <td>1.0</td>\n",
              "      <td>999</td>\n",
              "      <td>0</td>\n",
              "      <td>nonexistent</td>\n",
              "      <td>1.1</td>\n",
              "      <td>93.994</td>\n",
              "      <td>-36.4</td>\n",
              "      <td>4.857</td>\n",
              "      <td>5191.0</td>\n",
              "      <td>no</td>\n",
              "      <td>2008</td>\n",
              "    </tr>\n",
              "    <tr>\n",
              "      <th>3</th>\n",
              "      <td>40</td>\n",
              "      <td>admin.</td>\n",
              "      <td>married</td>\n",
              "      <td>basic.6y</td>\n",
              "      <td>no</td>\n",
              "      <td>no</td>\n",
              "      <td>no</td>\n",
              "      <td>telephone</td>\n",
              "      <td>may</td>\n",
              "      <td>mon</td>\n",
              "      <td>151.0</td>\n",
              "      <td>1.0</td>\n",
              "      <td>999</td>\n",
              "      <td>0</td>\n",
              "      <td>nonexistent</td>\n",
              "      <td>1.1</td>\n",
              "      <td>93.994</td>\n",
              "      <td>-36.4</td>\n",
              "      <td>4.857</td>\n",
              "      <td>5191.0</td>\n",
              "      <td>no</td>\n",
              "      <td>2008</td>\n",
              "    </tr>\n",
              "    <tr>\n",
              "      <th>4</th>\n",
              "      <td>56</td>\n",
              "      <td>services</td>\n",
              "      <td>married</td>\n",
              "      <td>high.school</td>\n",
              "      <td>no</td>\n",
              "      <td>no</td>\n",
              "      <td>yes</td>\n",
              "      <td>telephone</td>\n",
              "      <td>may</td>\n",
              "      <td>mon</td>\n",
              "      <td>307.0</td>\n",
              "      <td>1.0</td>\n",
              "      <td>999</td>\n",
              "      <td>0</td>\n",
              "      <td>nonexistent</td>\n",
              "      <td>1.1</td>\n",
              "      <td>93.994</td>\n",
              "      <td>-36.4</td>\n",
              "      <td>4.857</td>\n",
              "      <td>5191.0</td>\n",
              "      <td>no</td>\n",
              "      <td>2008</td>\n",
              "    </tr>\n",
              "    <tr>\n",
              "      <th>...</th>\n",
              "      <td>...</td>\n",
              "      <td>...</td>\n",
              "      <td>...</td>\n",
              "      <td>...</td>\n",
              "      <td>...</td>\n",
              "      <td>...</td>\n",
              "      <td>...</td>\n",
              "      <td>...</td>\n",
              "      <td>...</td>\n",
              "      <td>...</td>\n",
              "      <td>...</td>\n",
              "      <td>...</td>\n",
              "      <td>...</td>\n",
              "      <td>...</td>\n",
              "      <td>...</td>\n",
              "      <td>...</td>\n",
              "      <td>...</td>\n",
              "      <td>...</td>\n",
              "      <td>...</td>\n",
              "      <td>...</td>\n",
              "      <td>...</td>\n",
              "      <td>...</td>\n",
              "    </tr>\n",
              "    <tr>\n",
              "      <th>41183</th>\n",
              "      <td>73</td>\n",
              "      <td>retired</td>\n",
              "      <td>married</td>\n",
              "      <td>professional.course</td>\n",
              "      <td>no</td>\n",
              "      <td>yes</td>\n",
              "      <td>no</td>\n",
              "      <td>cellular</td>\n",
              "      <td>nov</td>\n",
              "      <td>fri</td>\n",
              "      <td>334.0</td>\n",
              "      <td>1.0</td>\n",
              "      <td>999</td>\n",
              "      <td>0</td>\n",
              "      <td>nonexistent</td>\n",
              "      <td>-1.1</td>\n",
              "      <td>94.767</td>\n",
              "      <td>-50.8</td>\n",
              "      <td>1.028</td>\n",
              "      <td>5099.1</td>\n",
              "      <td>yes</td>\n",
              "      <td>2010</td>\n",
              "    </tr>\n",
              "    <tr>\n",
              "      <th>41184</th>\n",
              "      <td>46</td>\n",
              "      <td>blue-collar</td>\n",
              "      <td>married</td>\n",
              "      <td>professional.course</td>\n",
              "      <td>no</td>\n",
              "      <td>no</td>\n",
              "      <td>no</td>\n",
              "      <td>cellular</td>\n",
              "      <td>nov</td>\n",
              "      <td>fri</td>\n",
              "      <td>383.0</td>\n",
              "      <td>1.0</td>\n",
              "      <td>999</td>\n",
              "      <td>0</td>\n",
              "      <td>nonexistent</td>\n",
              "      <td>-1.1</td>\n",
              "      <td>94.767</td>\n",
              "      <td>-50.8</td>\n",
              "      <td>1.028</td>\n",
              "      <td>5099.1</td>\n",
              "      <td>no</td>\n",
              "      <td>2010</td>\n",
              "    </tr>\n",
              "    <tr>\n",
              "      <th>41185</th>\n",
              "      <td>56</td>\n",
              "      <td>retired</td>\n",
              "      <td>married</td>\n",
              "      <td>university.degree</td>\n",
              "      <td>no</td>\n",
              "      <td>yes</td>\n",
              "      <td>no</td>\n",
              "      <td>cellular</td>\n",
              "      <td>nov</td>\n",
              "      <td>fri</td>\n",
              "      <td>189.0</td>\n",
              "      <td>2.0</td>\n",
              "      <td>999</td>\n",
              "      <td>0</td>\n",
              "      <td>nonexistent</td>\n",
              "      <td>-1.1</td>\n",
              "      <td>94.767</td>\n",
              "      <td>-50.8</td>\n",
              "      <td>1.028</td>\n",
              "      <td>5099.1</td>\n",
              "      <td>no</td>\n",
              "      <td>2010</td>\n",
              "    </tr>\n",
              "    <tr>\n",
              "      <th>41186</th>\n",
              "      <td>44</td>\n",
              "      <td>technician</td>\n",
              "      <td>married</td>\n",
              "      <td>professional.course</td>\n",
              "      <td>no</td>\n",
              "      <td>no</td>\n",
              "      <td>no</td>\n",
              "      <td>cellular</td>\n",
              "      <td>nov</td>\n",
              "      <td>fri</td>\n",
              "      <td>442.0</td>\n",
              "      <td>1.0</td>\n",
              "      <td>999</td>\n",
              "      <td>0</td>\n",
              "      <td>nonexistent</td>\n",
              "      <td>-1.1</td>\n",
              "      <td>94.767</td>\n",
              "      <td>-50.8</td>\n",
              "      <td>1.028</td>\n",
              "      <td>5099.1</td>\n",
              "      <td>yes</td>\n",
              "      <td>2010</td>\n",
              "    </tr>\n",
              "    <tr>\n",
              "      <th>41187</th>\n",
              "      <td>74</td>\n",
              "      <td>retired</td>\n",
              "      <td>married</td>\n",
              "      <td>professional.course</td>\n",
              "      <td>no</td>\n",
              "      <td>yes</td>\n",
              "      <td>no</td>\n",
              "      <td>cellular</td>\n",
              "      <td>nov</td>\n",
              "      <td>fri</td>\n",
              "      <td>239.0</td>\n",
              "      <td>3.0</td>\n",
              "      <td>999</td>\n",
              "      <td>1</td>\n",
              "      <td>failure</td>\n",
              "      <td>-1.1</td>\n",
              "      <td>94.767</td>\n",
              "      <td>-50.8</td>\n",
              "      <td>1.028</td>\n",
              "      <td>5099.1</td>\n",
              "      <td>no</td>\n",
              "      <td>2010</td>\n",
              "    </tr>\n",
              "  </tbody>\n",
              "</table>\n",
              "<p>41188 rows × 22 columns</p>\n",
              "</div>"
            ],
            "text/plain": [
              "       age          job  marital  ... nr.employed    y  year\n",
              "0       56    housemaid  married  ...      5191.0   no  2008\n",
              "1       57     services  married  ...      5191.0   no  2008\n",
              "2       37     services  married  ...      5191.0   no  2008\n",
              "3       40       admin.  married  ...      5191.0   no  2008\n",
              "4       56     services  married  ...      5191.0   no  2008\n",
              "...    ...          ...      ...  ...         ...  ...   ...\n",
              "41183   73      retired  married  ...      5099.1  yes  2010\n",
              "41184   46  blue-collar  married  ...      5099.1   no  2010\n",
              "41185   56      retired  married  ...      5099.1   no  2010\n",
              "41186   44   technician  married  ...      5099.1  yes  2010\n",
              "41187   74      retired  married  ...      5099.1   no  2010\n",
              "\n",
              "[41188 rows x 22 columns]"
            ]
          },
          "metadata": {
            "tags": []
          },
          "execution_count": 44
        }
      ]
    },
    {
      "cell_type": "code",
      "metadata": {
        "colab_type": "code",
        "id": "h454UPc8HGnT",
        "colab": {
          "base_uri": "https://localhost:8080/",
          "height": 238
        },
        "outputId": "a935f295-b73d-4986-9f6e-9ea617f6089b"
      },
      "source": [
        "data= clean(data,\"campaign\",False)"
      ],
      "execution_count": 45,
      "outputs": [
        {
          "output_type": "stream",
          "text": [
            "1.0    17642\n",
            "2.0    10570\n",
            "3.0     5341\n",
            "5.0     4984\n",
            "4.0     2651\n",
            "Name: campaign, dtype: int64\n",
            "1.0    17642\n",
            "2.0    10570\n",
            "3.0     5341\n",
            "5.0     4984\n",
            "4.0     2651\n",
            "Name: campaign, dtype: int64\n",
            "Change in target variable is from  11.26541711178013%  to  11.26541711178013%\n"
          ],
          "name": "stdout"
        }
      ]
    },
    {
      "cell_type": "markdown",
      "metadata": {
        "colab_type": "text",
        "id": "MSS9YZFSHGnY"
      },
      "source": [
        "Draw ` plot ` to see change in values."
      ]
    },
    {
      "cell_type": "code",
      "metadata": {
        "colab_type": "code",
        "id": "2-SeTZRJHGnZ",
        "colab": {
          "base_uri": "https://localhost:8080/",
          "height": 341
        },
        "outputId": "81155d39-e1b7-48ea-81d4-4ad40852e009"
      },
      "source": [
        "sns.distplot(campaign_before_clean, hist=False, rug=True)\n",
        "sns.distplot(data.campaign, hist=False, rug=True)\n",
        "plt.xlim(0, 15)\n",
        "plt.xlabel('campaign', fontsize=18)\n",
        "plt.ylabel('Distribution', fontsize=18)\n",
        "plt.title(\"Raw vs Cleaned\")\n",
        "fig = plt.figure()"
      ],
      "execution_count": 25,
      "outputs": [
        {
          "output_type": "display_data",
          "data": {
            "image/png": "[encoded data removed]",
            "text/plain": [
              "<Figure size 432x288 with 1 Axes>"
            ]
          },
          "metadata": {
            "tags": []
          }
        },
        {
          "output_type": "display_data",
          "data": {
            "text/plain": [
              "<Figure size 432x288 with 0 Axes>"
            ]
          },
          "metadata": {
            "tags": []
          }
        }
      ]
    },
    {
      "cell_type": "markdown",
      "metadata": {
        "colab_type": "text",
        "id": "TJ3BIE1RHGne"
      },
      "source": [
        "#### Clean ` Duration `"
      ]
    },
    {
      "cell_type": "markdown",
      "metadata": {
        "colab_type": "text",
        "id": "ruLuVtE6HGnf"
      },
      "source": [
        "Box plot before cleaning ` duration `"
      ]
    },
    {
      "cell_type": "code",
      "metadata": {
        "colab_type": "code",
        "id": "-3Z_JUMcHGng",
        "colab": {
          "base_uri": "https://localhost:8080/",
          "height": 316
        },
        "outputId": "6d642789-d86c-49ee-82ed-f2cde84834e7"
      },
      "source": [
        "sns.boxplot(x=data['duration'])"
      ],
      "execution_count": 46,
      "outputs": [
        {
          "output_type": "execute_result",
          "data": {
            "text/plain": [
              "<matplotlib.axes._subplots.AxesSubplot at 0x7fd54aeecc50>"
            ]
          },
          "metadata": {
            "tags": []
          },
          "execution_count": 46
        },
        {
          "output_type": "display_data",
          "data": {
            "image/png": "[encoded data removed]",
            "text/plain": [
              "<Figure size 432x288 with 1 Axes>"
            ]
          },
          "metadata": {
            "tags": []
          }
        }
      ]
    },
    {
      "cell_type": "markdown",
      "metadata": {
        "colab_type": "text",
        "id": "0UVwiaBPHGnk"
      },
      "source": [
        "Box plot after cleaning ` duration `"
      ]
    },
    {
      "cell_type": "code",
      "metadata": {
        "colab_type": "code",
        "id": "WH4PsDT7HGnl",
        "colab": {
          "base_uri": "https://localhost:8080/",
          "height": 741
        },
        "outputId": "839174f3-74fa-4722-f48d-cee6baab75b4"
      },
      "source": [
        "data= clean(data,\"duration\",False,high=.95)\n",
        "sns.boxplot(x=data['duration'])"
      ],
      "execution_count": 47,
      "outputs": [
        {
          "output_type": "stream",
          "text": [
            "75.00     6314\n",
            "752.65    2060\n",
            "90.00      170\n",
            "85.00      170\n",
            "136.00     168\n",
            "          ... \n",
            "694.00       4\n",
            "708.00       3\n",
            "737.00       3\n",
            "752.00       2\n",
            "751.00       2\n",
            "Name: duration, Length: 679, dtype: int64\n",
            "75.0000     6314\n",
            "752.4225    2060\n",
            "85.0000      170\n",
            "90.0000      170\n",
            "136.0000     168\n",
            "            ... \n",
            "694.0000       4\n",
            "708.0000       3\n",
            "737.0000       3\n",
            "752.0000       2\n",
            "751.0000       2\n",
            "Name: duration, Length: 679, dtype: int64\n",
            "Change in target variable is from  11.26541711178013%  to  11.26541711178013%\n"
          ],
          "name": "stdout"
        },
        {
          "output_type": "execute_result",
          "data": {
            "text/plain": [
              "<matplotlib.axes._subplots.AxesSubplot at 0x7fd54ae01518>"
            ]
          },
          "metadata": {
            "tags": []
          },
          "execution_count": 47
        },
        {
          "output_type": "display_data",
          "data": {
            "image/png": "[encoded data removed]",
            "text/plain": [
              "<Figure size 432x288 with 1 Axes>"
            ]
          },
          "metadata": {
            "tags": []
          }
        }
      ]
    },
    {
      "cell_type": "markdown",
      "metadata": {
        "colab_type": "text",
        "id": "2yABdMPyHGnq"
      },
      "source": [
        "#### Clean Consumer Price Index\n",
        "\n",
        "The data seems without outliers."
      ]
    },
    {
      "cell_type": "code",
      "metadata": {
        "colab_type": "code",
        "id": "TvOjAwwEHGnq",
        "colab": {
          "base_uri": "https://localhost:8080/",
          "height": 316
        },
        "outputId": "49686e1a-0a26-4f92-c5b2-471f9a3e7883"
      },
      "source": [
        "sns.boxplot(x=data['cons.price.idx']) ###inflation and deflation"
      ],
      "execution_count": 28,
      "outputs": [
        {
          "output_type": "execute_result",
          "data": {
            "text/plain": [
              "<matplotlib.axes._subplots.AxesSubplot at 0x7fd54b1e17b8>"
            ]
          },
          "metadata": {
            "tags": []
          },
          "execution_count": 28
        },
        {
          "output_type": "display_data",
          "data": {
            "image/png": "[encoded data removed]",
            "text/plain": [
              "<Figure size 432x288 with 1 Axes>"
            ]
          },
          "metadata": {
            "tags": []
          }
        }
      ]
    },
    {
      "cell_type": "markdown",
      "metadata": {
        "colab_type": "text",
        "id": "XGXEo_qTHGnt"
      },
      "source": [
        "#### Clean Consumer Confidence Index\n",
        "\n",
        "Box plot before cleaning ` cons.conf.idx `The data seems with little outliers."
      ]
    },
    {
      "cell_type": "code",
      "metadata": {
        "colab_type": "code",
        "id": "dwMOcI66HGnu",
        "colab": {
          "base_uri": "https://localhost:8080/",
          "height": 316
        },
        "outputId": "593c1812-070d-4240-9be0-56985812cb8d"
      },
      "source": [
        "sns.boxplot(x=data['cons.conf.idx']) "
      ],
      "execution_count": 29,
      "outputs": [
        {
          "output_type": "execute_result",
          "data": {
            "text/plain": [
              "<matplotlib.axes._subplots.AxesSubplot at 0x7fd54b1529e8>"
            ]
          },
          "metadata": {
            "tags": []
          },
          "execution_count": 29
        },
        {
          "output_type": "display_data",
          "data": {
            "image/png": "[encoded data removed]",
            "text/plain": [
              "<Figure size 432x288 with 1 Axes>"
            ]
          },
          "metadata": {
            "tags": []
          }
        }
      ]
    },
    {
      "cell_type": "code",
      "metadata": {
        "colab_type": "code",
        "id": "trjubfXoHGnx",
        "colab": {
          "base_uri": "https://localhost:8080/",
          "height": 884
        },
        "outputId": "5023281a-5a4d-4b54-acab-94f41146abc4"
      },
      "source": [
        "data1=data.copy()\n",
        "data1= clean(data1,\"cons.conf.idx\",False,high=1)"
      ],
      "execution_count": 30,
      "outputs": [
        {
          "output_type": "stream",
          "text": [
            "-36.4    7763\n",
            "-42.7    6685\n",
            "-46.2    5794\n",
            "-36.1    5175\n",
            "-41.8    4374\n",
            "-42.0    3616\n",
            "-47.1    2458\n",
            "-31.4     770\n",
            "-40.8     715\n",
            "-26.9     447\n",
            "-30.1     357\n",
            "-40.3     311\n",
            "-37.5     303\n",
            "-50.0     282\n",
            "-29.8     267\n",
            "-34.8     264\n",
            "-38.3     233\n",
            "-39.8     229\n",
            "-40.0     212\n",
            "-49.5     204\n",
            "-33.6     178\n",
            "-34.6     174\n",
            "-33.0     172\n",
            "-50.8     128\n",
            "-40.4      67\n",
            "-45.9      10\n",
            "Name: cons.conf.idx, dtype: int64\n",
            "-46.2    8866\n",
            "-36.4    7763\n",
            "-42.7    6685\n",
            "-36.1    5175\n",
            "-41.8    4374\n",
            "-42.0    3616\n",
            "-31.4     770\n",
            "-40.8     715\n",
            "-26.9     447\n",
            "-30.1     357\n",
            "-40.3     311\n",
            "-37.5     303\n",
            "-29.8     267\n",
            "-34.8     264\n",
            "-38.3     233\n",
            "-39.8     229\n",
            "-40.0     212\n",
            "-33.6     178\n",
            "-34.6     174\n",
            "-33.0     172\n",
            "-40.4      67\n",
            "-45.9      10\n",
            "Name: cons.conf.idx, dtype: int64\n",
            "Change in target variable is from  11.26541711178013%  to  11.26541711178013%\n"
          ],
          "name": "stdout"
        }
      ]
    },
    {
      "cell_type": "code",
      "metadata": {
        "colab_type": "code",
        "id": "urZzyvrbHGn0",
        "colab": {
          "base_uri": "https://localhost:8080/",
          "height": 316
        },
        "outputId": "0e1d2bb8-0d00-4561-896f-7d3e775c34a2"
      },
      "source": [
        "sns.boxplot(x=data1['cons.conf.idx']) ###where is economy heading considered lagging"
      ],
      "execution_count": 31,
      "outputs": [
        {
          "output_type": "execute_result",
          "data": {
            "text/plain": [
              "<matplotlib.axes._subplots.AxesSubplot at 0x7fd54b0af438>"
            ]
          },
          "metadata": {
            "tags": []
          },
          "execution_count": 31
        },
        {
          "output_type": "display_data",
          "data": {
            "image/png": "[encoded data removed]",
            "text/plain": [
              "<Figure size 432x288 with 1 Axes>"
            ]
          },
          "metadata": {
            "tags": []
          }
        }
      ]
    },
    {
      "cell_type": "markdown",
      "metadata": {
        "colab_type": "text",
        "id": "NRM6hFUkHGn3"
      },
      "source": [
        "#### Clean Euribor\n",
        "\n"
      ]
    },
    {
      "cell_type": "code",
      "metadata": {
        "colab_type": "code",
        "id": "NsuswsMGHGn3",
        "colab": {
          "base_uri": "https://localhost:8080/",
          "height": 316
        },
        "outputId": "83060ecc-7926-4016-e411-821f7c7dba9a"
      },
      "source": [
        "sns.boxplot(x=data['euribor3m'])"
      ],
      "execution_count": 32,
      "outputs": [
        {
          "output_type": "execute_result",
          "data": {
            "text/plain": [
              "<matplotlib.axes._subplots.AxesSubplot at 0x7fd54affa400>"
            ]
          },
          "metadata": {
            "tags": []
          },
          "execution_count": 32
        },
        {
          "output_type": "display_data",
          "data": {
            "image/png": "[encoded data removed]",
            "text/plain": [
              "<Figure size 432x288 with 1 Axes>"
            ]
          },
          "metadata": {
            "tags": []
          }
        }
      ]
    },
    {
      "cell_type": "markdown",
      "metadata": {
        "colab_type": "text",
        "id": "XAWCgvq-HGn6"
      },
      "source": [
        "No need to clean ` euribor3m `."
      ]
    },
    {
      "cell_type": "markdown",
      "metadata": {
        "colab_type": "text",
        "id": "EegnYYcQHGn7"
      },
      "source": [
        "#### Clean Number of Employees"
      ]
    },
    {
      "cell_type": "code",
      "metadata": {
        "colab_type": "code",
        "id": "U2j1Iq55HGn7",
        "colab": {
          "base_uri": "https://localhost:8080/",
          "height": 316
        },
        "outputId": "19beeae3-dc3e-435f-c6bf-bf7a68cca611"
      },
      "source": [
        "sns.boxplot(x=data['nr.employed'])"
      ],
      "execution_count": 33,
      "outputs": [
        {
          "output_type": "execute_result",
          "data": {
            "text/plain": [
              "<matplotlib.axes._subplots.AxesSubplot at 0x7fd54af7a7b8>"
            ]
          },
          "metadata": {
            "tags": []
          },
          "execution_count": 33
        },
        {
          "output_type": "display_data",
          "data": {
            "image/png": "[encoded data removed]",
            "text/plain": [
              "<Figure size 432x288 with 1 Axes>"
            ]
          },
          "metadata": {
            "tags": []
          }
        }
      ]
    },
    {
      "cell_type": "markdown",
      "metadata": {
        "colab_type": "text",
        "id": "VRrPN9eMHGn_"
      },
      "source": [
        "Change to ` scatter ` plot for better visualization."
      ]
    },
    {
      "cell_type": "code",
      "metadata": {
        "colab_type": "code",
        "id": "vDFc6ST-HGoA",
        "colab": {
          "base_uri": "https://localhost:8080/",
          "height": 532
        },
        "outputId": "2c3d1dcd-32ab-42f2-c779-720d7eb900a6"
      },
      "source": [
        "fig, ax = plt.subplots(figsize=(16,8))\n",
        "ax.scatter( data.index,data['nr.employed'])\n",
        "ax.set_xlabel('Proportion of non-retail business acres per town')\n",
        "ax.set_ylabel('Full-value property-tax rate per $10,000')\n",
        "plt.show()"
      ],
      "execution_count": 34,
      "outputs": [
        {
          "output_type": "display_data",
          "data": {
            "image/png": "[encoded data removed]",
            "text/plain": [
              "<Figure size 1152x576 with 1 Axes>"
            ]
          },
          "metadata": {
            "tags": []
          }
        }
      ]
    },
    {
      "cell_type": "markdown",
      "metadata": {
        "colab_type": "text",
        "id": "e1kSM-5ZHGoD"
      },
      "source": [
        "Now that we see the outliers ,we can ` clean `  them."
      ]
    },
    {
      "cell_type": "code",
      "metadata": {
        "colab_type": "code",
        "id": "qzh0xyWFHGoD",
        "colab": {
          "base_uri": "https://localhost:8080/",
          "height": 340
        },
        "outputId": "e5dbba5f-e5e9-4956-e2f5-d2624f157990"
      },
      "source": [
        "data= clean(data,\"nr.employed\",False,low=.15)"
      ],
      "execution_count": 35,
      "outputs": [
        {
          "output_type": "stream",
          "text": [
            "5228.1    16234\n",
            "5099.1     8534\n",
            "5191.0     7763\n",
            "5195.8     3683\n",
            "5076.2     1663\n",
            "5017.5     1071\n",
            "4991.6      773\n",
            "5008.7      650\n",
            "4963.6      635\n",
            "5023.5      172\n",
            "5176.3       10\n",
            "Name: nr.employed, dtype: int64\n",
            "5228.1    16234\n",
            "5099.1    13498\n",
            "5191.0     7763\n",
            "5195.8     3683\n",
            "5176.3       10\n",
            "Name: nr.employed, dtype: int64\n",
            "Change in target variable is from  11.26541711178013%  to  11.26541711178013%\n"
          ],
          "name": "stdout"
        }
      ]
    },
    {
      "cell_type": "code",
      "metadata": {
        "colab_type": "code",
        "id": "3n-hDc5fHGoG",
        "colab": {
          "base_uri": "https://localhost:8080/",
          "height": 532
        },
        "outputId": "165967b9-0f78-46c3-a19e-163fe7845182"
      },
      "source": [
        "fig, ax = plt.subplots(figsize=(16,8))\n",
        "ax.scatter( data.index,data['nr.employed'])\n",
        "ax.set_xlabel('Proportion of non-retail business acres per town')\n",
        "ax.set_ylabel('Full-value property-tax rate per $10,000')\n",
        "plt.show()"
      ],
      "execution_count": 36,
      "outputs": [
        {
          "output_type": "display_data",
          "data": {
            "image/png": "[encoded data removed]",
            "text/plain": [
              "<Figure size 1152x576 with 1 Axes>"
            ]
          },
          "metadata": {
            "tags": []
          }
        }
      ]
    },
    {
      "cell_type": "code",
      "metadata": {
        "colab_type": "code",
        "id": "MepOOubWHGoJ",
        "colab": {
          "base_uri": "https://localhost:8080/",
          "height": 297
        },
        "outputId": "a71bdf25-bf22-4017-9cd2-d9b47605c656"
      },
      "source": [
        "data.describe()"
      ],
      "execution_count": 37,
      "outputs": [
        {
          "output_type": "execute_result",
          "data": {
            "text/html": [
              "<div>\n",
              "<style scoped>\n",
              "    .dataframe tbody tr th:only-of-type {\n",
              "        vertical-align: middle;\n",
              "    }\n",
              "\n",
              "    .dataframe tbody tr th {\n",
              "        vertical-align: top;\n",
              "    }\n",
              "\n",
              "    .dataframe thead th {\n",
              "        text-align: right;\n",
              "    }\n",
              "</style>\n",
              "<table border=\"1\" class=\"dataframe\">\n",
              "  <thead>\n",
              "    <tr style=\"text-align: right;\">\n",
              "      <th></th>\n",
              "      <th>age</th>\n",
              "      <th>duration</th>\n",
              "      <th>campaign</th>\n",
              "      <th>pdays</th>\n",
              "      <th>previous</th>\n",
              "      <th>emp.var.rate</th>\n",
              "      <th>cons.price.idx</th>\n",
              "      <th>cons.conf.idx</th>\n",
              "      <th>euribor3m</th>\n",
              "      <th>nr.employed</th>\n",
              "    </tr>\n",
              "  </thead>\n",
              "  <tbody>\n",
              "    <tr>\n",
              "      <th>count</th>\n",
              "      <td>41188.00000</td>\n",
              "      <td>41188.000000</td>\n",
              "      <td>41188.000000</td>\n",
              "      <td>41188.000000</td>\n",
              "      <td>41188.000000</td>\n",
              "      <td>41188.000000</td>\n",
              "      <td>41188.000000</td>\n",
              "      <td>41188.000000</td>\n",
              "      <td>41188.000000</td>\n",
              "      <td>41188.000000</td>\n",
              "    </tr>\n",
              "    <tr>\n",
              "      <th>mean</th>\n",
              "      <td>40.02406</td>\n",
              "      <td>245.968680</td>\n",
              "      <td>2.193090</td>\n",
              "      <td>962.475454</td>\n",
              "      <td>0.172963</td>\n",
              "      <td>0.081886</td>\n",
              "      <td>93.575664</td>\n",
              "      <td>-40.502600</td>\n",
              "      <td>3.621291</td>\n",
              "      <td>5175.931208</td>\n",
              "    </tr>\n",
              "    <tr>\n",
              "      <th>std</th>\n",
              "      <td>10.42125</td>\n",
              "      <td>188.980641</td>\n",
              "      <td>1.366482</td>\n",
              "      <td>186.910907</td>\n",
              "      <td>0.494901</td>\n",
              "      <td>1.570960</td>\n",
              "      <td>0.578840</td>\n",
              "      <td>4.628198</td>\n",
              "      <td>1.734447</td>\n",
              "      <td>55.546297</td>\n",
              "    </tr>\n",
              "    <tr>\n",
              "      <th>min</th>\n",
              "      <td>17.00000</td>\n",
              "      <td>75.000000</td>\n",
              "      <td>1.000000</td>\n",
              "      <td>0.000000</td>\n",
              "      <td>0.000000</td>\n",
              "      <td>-3.400000</td>\n",
              "      <td>92.201000</td>\n",
              "      <td>-50.800000</td>\n",
              "      <td>0.634000</td>\n",
              "      <td>5099.100000</td>\n",
              "    </tr>\n",
              "    <tr>\n",
              "      <th>25%</th>\n",
              "      <td>32.00000</td>\n",
              "      <td>102.000000</td>\n",
              "      <td>1.000000</td>\n",
              "      <td>999.000000</td>\n",
              "      <td>0.000000</td>\n",
              "      <td>-1.800000</td>\n",
              "      <td>93.075000</td>\n",
              "      <td>-42.700000</td>\n",
              "      <td>1.344000</td>\n",
              "      <td>5099.100000</td>\n",
              "    </tr>\n",
              "    <tr>\n",
              "      <th>50%</th>\n",
              "      <td>38.00000</td>\n",
              "      <td>180.000000</td>\n",
              "      <td>2.000000</td>\n",
              "      <td>999.000000</td>\n",
              "      <td>0.000000</td>\n",
              "      <td>1.100000</td>\n",
              "      <td>93.749000</td>\n",
              "      <td>-41.800000</td>\n",
              "      <td>4.857000</td>\n",
              "      <td>5191.000000</td>\n",
              "    </tr>\n",
              "    <tr>\n",
              "      <th>75%</th>\n",
              "      <td>47.00000</td>\n",
              "      <td>319.000000</td>\n",
              "      <td>3.000000</td>\n",
              "      <td>999.000000</td>\n",
              "      <td>0.000000</td>\n",
              "      <td>1.400000</td>\n",
              "      <td>93.994000</td>\n",
              "      <td>-36.400000</td>\n",
              "      <td>4.961000</td>\n",
              "      <td>5228.100000</td>\n",
              "    </tr>\n",
              "    <tr>\n",
              "      <th>max</th>\n",
              "      <td>98.00000</td>\n",
              "      <td>752.650000</td>\n",
              "      <td>5.000000</td>\n",
              "      <td>999.000000</td>\n",
              "      <td>7.000000</td>\n",
              "      <td>1.400000</td>\n",
              "      <td>94.767000</td>\n",
              "      <td>-26.900000</td>\n",
              "      <td>5.045000</td>\n",
              "      <td>5228.100000</td>\n",
              "    </tr>\n",
              "  </tbody>\n",
              "</table>\n",
              "</div>"
            ],
            "text/plain": [
              "               age      duration  ...     euribor3m   nr.employed\n",
              "count  41188.00000  41188.000000  ...  41188.000000  41188.000000\n",
              "mean      40.02406    245.968680  ...      3.621291   5175.931208\n",
              "std       10.42125    188.980641  ...      1.734447     55.546297\n",
              "min       17.00000     75.000000  ...      0.634000   5099.100000\n",
              "25%       32.00000    102.000000  ...      1.344000   5099.100000\n",
              "50%       38.00000    180.000000  ...      4.857000   5191.000000\n",
              "75%       47.00000    319.000000  ...      4.961000   5228.100000\n",
              "max       98.00000    752.650000  ...      5.045000   5228.100000\n",
              "\n",
              "[8 rows x 10 columns]"
            ]
          },
          "metadata": {
            "tags": []
          },
          "execution_count": 37
        }
      ]
    },
    {
      "cell_type": "markdown",
      "metadata": {
        "colab_type": "text",
        "id": "rta9I7_jHGoM"
      },
      "source": [
        "#### Add year as a feature to further improve model"
      ]
    },
    {
      "cell_type": "code",
      "metadata": {
        "colab_type": "code",
        "id": "gIQhsKYHKiPo",
        "colab": {
          "base_uri": "https://localhost:8080/",
          "height": 439
        },
        "outputId": "8f33c45b-973f-4b83-fda8-f4b8bdf013c3"
      },
      "source": [
        "data"
      ],
      "execution_count": 48,
      "outputs": [
        {
          "output_type": "execute_result",
          "data": {
            "text/html": [
              "<div>\n",
              "<style scoped>\n",
              "    .dataframe tbody tr th:only-of-type {\n",
              "        vertical-align: middle;\n",
              "    }\n",
              "\n",
              "    .dataframe tbody tr th {\n",
              "        vertical-align: top;\n",
              "    }\n",
              "\n",
              "    .dataframe thead th {\n",
              "        text-align: right;\n",
              "    }\n",
              "</style>\n",
              "<table border=\"1\" class=\"dataframe\">\n",
              "  <thead>\n",
              "    <tr style=\"text-align: right;\">\n",
              "      <th></th>\n",
              "      <th>age</th>\n",
              "      <th>job</th>\n",
              "      <th>marital</th>\n",
              "      <th>education</th>\n",
              "      <th>default</th>\n",
              "      <th>housing</th>\n",
              "      <th>loan</th>\n",
              "      <th>contact</th>\n",
              "      <th>month</th>\n",
              "      <th>day_of_week</th>\n",
              "      <th>duration</th>\n",
              "      <th>campaign</th>\n",
              "      <th>pdays</th>\n",
              "      <th>previous</th>\n",
              "      <th>poutcome</th>\n",
              "      <th>emp.var.rate</th>\n",
              "      <th>cons.price.idx</th>\n",
              "      <th>cons.conf.idx</th>\n",
              "      <th>euribor3m</th>\n",
              "      <th>nr.employed</th>\n",
              "      <th>y</th>\n",
              "      <th>year</th>\n",
              "    </tr>\n",
              "  </thead>\n",
              "  <tbody>\n",
              "    <tr>\n",
              "      <th>0</th>\n",
              "      <td>56</td>\n",
              "      <td>housemaid</td>\n",
              "      <td>married</td>\n",
              "      <td>basic.4y</td>\n",
              "      <td>no</td>\n",
              "      <td>no</td>\n",
              "      <td>no</td>\n",
              "      <td>telephone</td>\n",
              "      <td>may</td>\n",
              "      <td>mon</td>\n",
              "      <td>261.0</td>\n",
              "      <td>1.0</td>\n",
              "      <td>999</td>\n",
              "      <td>0</td>\n",
              "      <td>nonexistent</td>\n",
              "      <td>1.1</td>\n",
              "      <td>93.994</td>\n",
              "      <td>-36.4</td>\n",
              "      <td>4.857</td>\n",
              "      <td>5191.0</td>\n",
              "      <td>no</td>\n",
              "      <td>2008</td>\n",
              "    </tr>\n",
              "    <tr>\n",
              "      <th>1</th>\n",
              "      <td>57</td>\n",
              "      <td>services</td>\n",
              "      <td>married</td>\n",
              "      <td>high.school</td>\n",
              "      <td>unknown</td>\n",
              "      <td>no</td>\n",
              "      <td>no</td>\n",
              "      <td>telephone</td>\n",
              "      <td>may</td>\n",
              "      <td>mon</td>\n",
              "      <td>149.0</td>\n",
              "      <td>1.0</td>\n",
              "      <td>999</td>\n",
              "      <td>0</td>\n",
              "      <td>nonexistent</td>\n",
              "      <td>1.1</td>\n",
              "      <td>93.994</td>\n",
              "      <td>-36.4</td>\n",
              "      <td>4.857</td>\n",
              "      <td>5191.0</td>\n",
              "      <td>no</td>\n",
              "      <td>2008</td>\n",
              "    </tr>\n",
              "    <tr>\n",
              "      <th>2</th>\n",
              "      <td>37</td>\n",
              "      <td>services</td>\n",
              "      <td>married</td>\n",
              "      <td>high.school</td>\n",
              "      <td>no</td>\n",
              "      <td>yes</td>\n",
              "      <td>no</td>\n",
              "      <td>telephone</td>\n",
              "      <td>may</td>\n",
              "      <td>mon</td>\n",
              "      <td>226.0</td>\n",
              "      <td>1.0</td>\n",
              "      <td>999</td>\n",
              "      <td>0</td>\n",
              "      <td>nonexistent</td>\n",
              "      <td>1.1</td>\n",
              "      <td>93.994</td>\n",
              "      <td>-36.4</td>\n",
              "      <td>4.857</td>\n",
              "      <td>5191.0</td>\n",
              "      <td>no</td>\n",
              "      <td>2008</td>\n",
              "    </tr>\n",
              "    <tr>\n",
              "      <th>3</th>\n",
              "      <td>40</td>\n",
              "      <td>admin.</td>\n",
              "      <td>married</td>\n",
              "      <td>basic.6y</td>\n",
              "      <td>no</td>\n",
              "      <td>no</td>\n",
              "      <td>no</td>\n",
              "      <td>telephone</td>\n",
              "      <td>may</td>\n",
              "      <td>mon</td>\n",
              "      <td>151.0</td>\n",
              "      <td>1.0</td>\n",
              "      <td>999</td>\n",
              "      <td>0</td>\n",
              "      <td>nonexistent</td>\n",
              "      <td>1.1</td>\n",
              "      <td>93.994</td>\n",
              "      <td>-36.4</td>\n",
              "      <td>4.857</td>\n",
              "      <td>5191.0</td>\n",
              "      <td>no</td>\n",
              "      <td>2008</td>\n",
              "    </tr>\n",
              "    <tr>\n",
              "      <th>4</th>\n",
              "      <td>56</td>\n",
              "      <td>services</td>\n",
              "      <td>married</td>\n",
              "      <td>high.school</td>\n",
              "      <td>no</td>\n",
              "      <td>no</td>\n",
              "      <td>yes</td>\n",
              "      <td>telephone</td>\n",
              "      <td>may</td>\n",
              "      <td>mon</td>\n",
              "      <td>307.0</td>\n",
              "      <td>1.0</td>\n",
              "      <td>999</td>\n",
              "      <td>0</td>\n",
              "      <td>nonexistent</td>\n",
              "      <td>1.1</td>\n",
              "      <td>93.994</td>\n",
              "      <td>-36.4</td>\n",
              "      <td>4.857</td>\n",
              "      <td>5191.0</td>\n",
              "      <td>no</td>\n",
              "      <td>2008</td>\n",
              "    </tr>\n",
              "    <tr>\n",
              "      <th>...</th>\n",
              "      <td>...</td>\n",
              "      <td>...</td>\n",
              "      <td>...</td>\n",
              "      <td>...</td>\n",
              "      <td>...</td>\n",
              "      <td>...</td>\n",
              "      <td>...</td>\n",
              "      <td>...</td>\n",
              "      <td>...</td>\n",
              "      <td>...</td>\n",
              "      <td>...</td>\n",
              "      <td>...</td>\n",
              "      <td>...</td>\n",
              "      <td>...</td>\n",
              "      <td>...</td>\n",
              "      <td>...</td>\n",
              "      <td>...</td>\n",
              "      <td>...</td>\n",
              "      <td>...</td>\n",
              "      <td>...</td>\n",
              "      <td>...</td>\n",
              "      <td>...</td>\n",
              "    </tr>\n",
              "    <tr>\n",
              "      <th>41183</th>\n",
              "      <td>73</td>\n",
              "      <td>retired</td>\n",
              "      <td>married</td>\n",
              "      <td>professional.course</td>\n",
              "      <td>no</td>\n",
              "      <td>yes</td>\n",
              "      <td>no</td>\n",
              "      <td>cellular</td>\n",
              "      <td>nov</td>\n",
              "      <td>fri</td>\n",
              "      <td>334.0</td>\n",
              "      <td>1.0</td>\n",
              "      <td>999</td>\n",
              "      <td>0</td>\n",
              "      <td>nonexistent</td>\n",
              "      <td>-1.1</td>\n",
              "      <td>94.767</td>\n",
              "      <td>-50.8</td>\n",
              "      <td>1.028</td>\n",
              "      <td>5099.1</td>\n",
              "      <td>yes</td>\n",
              "      <td>2010</td>\n",
              "    </tr>\n",
              "    <tr>\n",
              "      <th>41184</th>\n",
              "      <td>46</td>\n",
              "      <td>blue-collar</td>\n",
              "      <td>married</td>\n",
              "      <td>professional.course</td>\n",
              "      <td>no</td>\n",
              "      <td>no</td>\n",
              "      <td>no</td>\n",
              "      <td>cellular</td>\n",
              "      <td>nov</td>\n",
              "      <td>fri</td>\n",
              "      <td>383.0</td>\n",
              "      <td>1.0</td>\n",
              "      <td>999</td>\n",
              "      <td>0</td>\n",
              "      <td>nonexistent</td>\n",
              "      <td>-1.1</td>\n",
              "      <td>94.767</td>\n",
              "      <td>-50.8</td>\n",
              "      <td>1.028</td>\n",
              "      <td>5099.1</td>\n",
              "      <td>no</td>\n",
              "      <td>2010</td>\n",
              "    </tr>\n",
              "    <tr>\n",
              "      <th>41185</th>\n",
              "      <td>56</td>\n",
              "      <td>retired</td>\n",
              "      <td>married</td>\n",
              "      <td>university.degree</td>\n",
              "      <td>no</td>\n",
              "      <td>yes</td>\n",
              "      <td>no</td>\n",
              "      <td>cellular</td>\n",
              "      <td>nov</td>\n",
              "      <td>fri</td>\n",
              "      <td>189.0</td>\n",
              "      <td>2.0</td>\n",
              "      <td>999</td>\n",
              "      <td>0</td>\n",
              "      <td>nonexistent</td>\n",
              "      <td>-1.1</td>\n",
              "      <td>94.767</td>\n",
              "      <td>-50.8</td>\n",
              "      <td>1.028</td>\n",
              "      <td>5099.1</td>\n",
              "      <td>no</td>\n",
              "      <td>2010</td>\n",
              "    </tr>\n",
              "    <tr>\n",
              "      <th>41186</th>\n",
              "      <td>44</td>\n",
              "      <td>technician</td>\n",
              "      <td>married</td>\n",
              "      <td>professional.course</td>\n",
              "      <td>no</td>\n",
              "      <td>no</td>\n",
              "      <td>no</td>\n",
              "      <td>cellular</td>\n",
              "      <td>nov</td>\n",
              "      <td>fri</td>\n",
              "      <td>442.0</td>\n",
              "      <td>1.0</td>\n",
              "      <td>999</td>\n",
              "      <td>0</td>\n",
              "      <td>nonexistent</td>\n",
              "      <td>-1.1</td>\n",
              "      <td>94.767</td>\n",
              "      <td>-50.8</td>\n",
              "      <td>1.028</td>\n",
              "      <td>5099.1</td>\n",
              "      <td>yes</td>\n",
              "      <td>2010</td>\n",
              "    </tr>\n",
              "    <tr>\n",
              "      <th>41187</th>\n",
              "      <td>74</td>\n",
              "      <td>retired</td>\n",
              "      <td>married</td>\n",
              "      <td>professional.course</td>\n",
              "      <td>no</td>\n",
              "      <td>yes</td>\n",
              "      <td>no</td>\n",
              "      <td>cellular</td>\n",
              "      <td>nov</td>\n",
              "      <td>fri</td>\n",
              "      <td>239.0</td>\n",
              "      <td>3.0</td>\n",
              "      <td>999</td>\n",
              "      <td>1</td>\n",
              "      <td>failure</td>\n",
              "      <td>-1.1</td>\n",
              "      <td>94.767</td>\n",
              "      <td>-50.8</td>\n",
              "      <td>1.028</td>\n",
              "      <td>5099.1</td>\n",
              "      <td>no</td>\n",
              "      <td>2010</td>\n",
              "    </tr>\n",
              "  </tbody>\n",
              "</table>\n",
              "<p>41188 rows × 22 columns</p>\n",
              "</div>"
            ],
            "text/plain": [
              "       age          job  marital  ... nr.employed    y  year\n",
              "0       56    housemaid  married  ...      5191.0   no  2008\n",
              "1       57     services  married  ...      5191.0   no  2008\n",
              "2       37     services  married  ...      5191.0   no  2008\n",
              "3       40       admin.  married  ...      5191.0   no  2008\n",
              "4       56     services  married  ...      5191.0   no  2008\n",
              "...    ...          ...      ...  ...         ...  ...   ...\n",
              "41183   73      retired  married  ...      5099.1  yes  2010\n",
              "41184   46  blue-collar  married  ...      5099.1   no  2010\n",
              "41185   56      retired  married  ...      5099.1   no  2010\n",
              "41186   44   technician  married  ...      5099.1  yes  2010\n",
              "41187   74      retired  married  ...      5099.1   no  2010\n",
              "\n",
              "[41188 rows x 22 columns]"
            ]
          },
          "metadata": {
            "tags": []
          },
          "execution_count": 48
        }
      ]
    },
    {
      "cell_type": "code",
      "metadata": {
        "colab_type": "code",
        "id": "11NMmbFGHGoM",
        "colab": {
          "base_uri": "https://localhost:8080/",
          "height": 34
        },
        "outputId": "0d8a00c2-3239-4bc6-8c6d-bde500e71040"
      },
      "source": [
        "months=data['month'].values\n",
        "print(months)\n",
        "import numpy as np"
      ],
      "execution_count": 39,
      "outputs": [
        {
          "output_type": "stream",
          "text": [
            "['may' 'may' 'may' ... 'nov' 'nov' 'nov']\n"
          ],
          "name": "stdout"
        }
      ]
    },
    {
      "cell_type": "code",
      "metadata": {
        "colab_type": "code",
        "id": "dpVDo17QHGoQ",
        "colab": {
          "base_uri": "https://localhost:8080/",
          "height": 34
        },
        "outputId": "6ec20d0c-a17f-4d23-a007-e0408c505981"
      },
      "source": [
        "import numpy \n",
        "year =[2008]\n",
        "year = numpy.array(year) \n",
        "len(months)"
      ],
      "execution_count": 40,
      "outputs": [
        {
          "output_type": "execute_result",
          "data": {
            "text/plain": [
              "41188"
            ]
          },
          "metadata": {
            "tags": []
          },
          "execution_count": 40
        }
      ]
    },
    {
      "cell_type": "code",
      "metadata": {
        "colab_type": "code",
        "id": "nKfc6KuNHGoT",
        "colab": {
          "base_uri": "https://localhost:8080/",
          "height": 34
        },
        "outputId": "39731717-b1e1-4aab-f21d-ba6371d1f93b"
      },
      "source": [
        "month=dict([('jan', 1),('feb', 2),('mar', 3),('apr', 4),('may', 5),\n",
        "                ('jun', 6),('jul', 7),('aug', 8),('sep', 9),('oct', 10),('nov', 11),('dec', 12),('kl', 12)])\n",
        "\n",
        "\n",
        "for  m in range(1,(len(months))):\n",
        "   \n",
        "    if((m==41188)):\n",
        "        m=41188\n",
        "    mon=month[months[m]]\n",
        "    prev_mon=month[months[(m-1)]]\n",
        "   \n",
        "    if(prev_mon > mon):\n",
        "       \n",
        "       year = np.append(year, (year[len(year)-1]+1))\n",
        "    else :\n",
        "      # print (str(mon)+str(nxt_mon))\n",
        "       year = np.append(year, (year[len(year)-1]))\n",
        "        \n",
        "\n",
        "len(year)"
      ],
      "execution_count": 41,
      "outputs": [
        {
          "output_type": "execute_result",
          "data": {
            "text/plain": [
              "41188"
            ]
          },
          "metadata": {
            "tags": []
          },
          "execution_count": 41
        }
      ]
    },
    {
      "cell_type": "code",
      "metadata": {
        "colab_type": "code",
        "id": "ZuBvSUlVHGoY",
        "colab": {
          "base_uri": "https://localhost:8080/",
          "height": 221
        },
        "outputId": "c78b2e74-0cf8-4487-9c0d-561380e3f17d"
      },
      "source": [
        "data['year']=year\n",
        "data['year']"
      ],
      "execution_count": 42,
      "outputs": [
        {
          "output_type": "execute_result",
          "data": {
            "text/plain": [
              "0        2008\n",
              "1        2008\n",
              "2        2008\n",
              "3        2008\n",
              "4        2008\n",
              "         ... \n",
              "41183    2010\n",
              "41184    2010\n",
              "41185    2010\n",
              "41186    2010\n",
              "41187    2010\n",
              "Name: year, Length: 41188, dtype: int64"
            ]
          },
          "metadata": {
            "tags": []
          },
          "execution_count": 42
        }
      ]
    },
    {
      "cell_type": "markdown",
      "metadata": {
        "colab_type": "text",
        "id": "MYDgeOqVHGob"
      },
      "source": [
        "#### Finally save file as .csv"
      ]
    },
    {
      "cell_type": "code",
      "metadata": {
        "colab_type": "code",
        "id": "jOaHRuysHGoc",
        "colab": {}
      },
      "source": [
        "data.to_csv('cleaned.csv', index=True)"
      ],
      "execution_count": 43,
      "outputs": []
    },
    {
      "cell_type": "markdown",
      "metadata": {
        "colab_type": "text",
        "id": "Nxst7xHXHGof"
      },
      "source": [
        "# Modelling"
      ]
    },
    {
      "cell_type": "markdown",
      "metadata": {
        "colab_type": "text",
        "id": "pxWoZAxCHGof"
      },
      "source": [
        "## Encode categorical variables =========================================================================\n"
      ]
    },
    {
      "cell_type": "markdown",
      "metadata": {
        "id": "FMEqG6Jx6b0H",
        "colab_type": "text"
      },
      "source": [
        "**Function** used to encode data data.The objective of this function is to take the column names iteratively and encode the  features using ` One hot Encoding `mechanism and also adding the encoded feature  to the respective dataframe."
      ]
    },
    {
      "cell_type": "markdown",
      "metadata": {
        "id": "4EQvBknP6X4j",
        "colab_type": "text"
      },
      "source": [
        ""
      ]
    },
    {
      "cell_type": "code",
      "metadata": {
        "colab_type": "code",
        "id": "OrpMgVkmTuPi",
        "colab": {}
      },
      "source": [
        "from model import OneHotEncoder\n"
      ],
      "execution_count": 88,
      "outputs": []
    },
    {
      "cell_type": "markdown",
      "metadata": {
        "id": "PfDafh837SDX",
        "colab_type": "text"
      },
      "source": [
        "Define catagorical columns."
      ]
    },
    {
      "cell_type": "code",
      "metadata": {
        "colab_type": "code",
        "id": "rJ5A1-N8HGog",
        "colab": {}
      },
      "source": [
        "categorical_cols= ['job','marital','education',\n",
        "                                         'default','loan','housing','contact',\n",
        "                                         'month','day_of_week','poutcome']"
      ],
      "execution_count": 53,
      "outputs": []
    },
    {
      "cell_type": "markdown",
      "metadata": {
        "id": "0ucWuGrT7aiN",
        "colab_type": "text"
      },
      "source": [
        "` Encode `"
      ]
    },
    {
      "cell_type": "code",
      "metadata": {
        "id": "z0X8o5qe7V2Z",
        "colab_type": "code",
        "colab": {
          "base_uri": "https://localhost:8080/",
          "height": 204
        },
        "outputId": "1c97a316-a082-41de-e5fe-38af9283a61c"
      },
      "source": [
        "OneHotEncoder(categorical_cols, data)\n",
        "\n",
        "# Drop the categorical features as the one hot encoded representation is present\n",
        "data = data.drop(categorical_cols, axis=1)\n",
        "\n",
        "print(\"Shape of data: \", data.shape)\n"
      ],
      "execution_count": 54,
      "outputs": [
        {
          "output_type": "stream",
          "text": [
            "Encoding for feature:  job\n",
            "Encoding for feature:  marital\n",
            "Encoding for feature:  education\n",
            "Encoding for feature:  default\n",
            "Encoding for feature:  loan\n",
            "Encoding for feature:  housing\n",
            "Encoding for feature:  contact\n",
            "Encoding for feature:  month\n",
            "Encoding for feature:  day_of_week\n",
            "Encoding for feature:  poutcome\n",
            "Shape of data:  (41188, 65)\n"
          ],
          "name": "stdout"
        }
      ]
    },
    {
      "cell_type": "code",
      "metadata": {
        "colab_type": "code",
        "id": "wMQHB58fHGoi",
        "colab": {
          "base_uri": "https://localhost:8080/",
          "height": 179
        },
        "outputId": "a36627f3-ca94-4a81-f826-bafb0eb1f2e5"
      },
      "source": [
        "data.sample(3)"
      ],
      "execution_count": 55,
      "outputs": [
        {
          "output_type": "execute_result",
          "data": {
            "text/html": [
              "<div>\n",
              "<style scoped>\n",
              "    .dataframe tbody tr th:only-of-type {\n",
              "        vertical-align: middle;\n",
              "    }\n",
              "\n",
              "    .dataframe tbody tr th {\n",
              "        vertical-align: top;\n",
              "    }\n",
              "\n",
              "    .dataframe thead th {\n",
              "        text-align: right;\n",
              "    }\n",
              "</style>\n",
              "<table border=\"1\" class=\"dataframe\">\n",
              "  <thead>\n",
              "    <tr style=\"text-align: right;\">\n",
              "      <th></th>\n",
              "      <th>age</th>\n",
              "      <th>duration</th>\n",
              "      <th>campaign</th>\n",
              "      <th>pdays</th>\n",
              "      <th>previous</th>\n",
              "      <th>emp.var.rate</th>\n",
              "      <th>cons.price.idx</th>\n",
              "      <th>cons.conf.idx</th>\n",
              "      <th>euribor3m</th>\n",
              "      <th>nr.employed</th>\n",
              "      <th>y</th>\n",
              "      <th>year</th>\n",
              "      <th>job_admin.</th>\n",
              "      <th>job_blue-collar</th>\n",
              "      <th>job_entrepreneur</th>\n",
              "      <th>job_housemaid</th>\n",
              "      <th>job_management</th>\n",
              "      <th>job_retired</th>\n",
              "      <th>job_self-employed</th>\n",
              "      <th>job_services</th>\n",
              "      <th>job_student</th>\n",
              "      <th>job_technician</th>\n",
              "      <th>job_unemployed</th>\n",
              "      <th>job_unknown</th>\n",
              "      <th>marital_divorced</th>\n",
              "      <th>marital_married</th>\n",
              "      <th>marital_single</th>\n",
              "      <th>marital_unknown</th>\n",
              "      <th>education_basic.4y</th>\n",
              "      <th>education_basic.6y</th>\n",
              "      <th>education_basic.9y</th>\n",
              "      <th>education_high.school</th>\n",
              "      <th>education_illiterate</th>\n",
              "      <th>education_professional.course</th>\n",
              "      <th>education_university.degree</th>\n",
              "      <th>education_unknown</th>\n",
              "      <th>default_no</th>\n",
              "      <th>default_unknown</th>\n",
              "      <th>default_yes</th>\n",
              "      <th>loan_no</th>\n",
              "      <th>loan_unknown</th>\n",
              "      <th>loan_yes</th>\n",
              "      <th>housing_no</th>\n",
              "      <th>housing_unknown</th>\n",
              "      <th>housing_yes</th>\n",
              "      <th>contact_cellular</th>\n",
              "      <th>contact_telephone</th>\n",
              "      <th>month_apr</th>\n",
              "      <th>month_aug</th>\n",
              "      <th>month_dec</th>\n",
              "      <th>month_jul</th>\n",
              "      <th>month_jun</th>\n",
              "      <th>month_mar</th>\n",
              "      <th>month_may</th>\n",
              "      <th>month_nov</th>\n",
              "      <th>month_oct</th>\n",
              "      <th>month_sep</th>\n",
              "      <th>day_of_week_fri</th>\n",
              "      <th>day_of_week_mon</th>\n",
              "      <th>day_of_week_thu</th>\n",
              "      <th>day_of_week_tue</th>\n",
              "      <th>day_of_week_wed</th>\n",
              "      <th>poutcome_failure</th>\n",
              "      <th>poutcome_nonexistent</th>\n",
              "      <th>poutcome_success</th>\n",
              "    </tr>\n",
              "  </thead>\n",
              "  <tbody>\n",
              "    <tr>\n",
              "      <th>14562</th>\n",
              "      <td>34</td>\n",
              "      <td>182.0</td>\n",
              "      <td>1.0</td>\n",
              "      <td>999</td>\n",
              "      <td>0</td>\n",
              "      <td>1.4</td>\n",
              "      <td>93.918</td>\n",
              "      <td>-42.7</td>\n",
              "      <td>4.961</td>\n",
              "      <td>5228.1</td>\n",
              "      <td>no</td>\n",
              "      <td>2008</td>\n",
              "      <td>1</td>\n",
              "      <td>0</td>\n",
              "      <td>0</td>\n",
              "      <td>0</td>\n",
              "      <td>0</td>\n",
              "      <td>0</td>\n",
              "      <td>0</td>\n",
              "      <td>0</td>\n",
              "      <td>0</td>\n",
              "      <td>0</td>\n",
              "      <td>0</td>\n",
              "      <td>0</td>\n",
              "      <td>0</td>\n",
              "      <td>0</td>\n",
              "      <td>1</td>\n",
              "      <td>0</td>\n",
              "      <td>0</td>\n",
              "      <td>0</td>\n",
              "      <td>0</td>\n",
              "      <td>0</td>\n",
              "      <td>0</td>\n",
              "      <td>0</td>\n",
              "      <td>1</td>\n",
              "      <td>0</td>\n",
              "      <td>1</td>\n",
              "      <td>0</td>\n",
              "      <td>0</td>\n",
              "      <td>1</td>\n",
              "      <td>0</td>\n",
              "      <td>0</td>\n",
              "      <td>1</td>\n",
              "      <td>0</td>\n",
              "      <td>0</td>\n",
              "      <td>1</td>\n",
              "      <td>0</td>\n",
              "      <td>0</td>\n",
              "      <td>0</td>\n",
              "      <td>0</td>\n",
              "      <td>1</td>\n",
              "      <td>0</td>\n",
              "      <td>0</td>\n",
              "      <td>0</td>\n",
              "      <td>0</td>\n",
              "      <td>0</td>\n",
              "      <td>0</td>\n",
              "      <td>0</td>\n",
              "      <td>0</td>\n",
              "      <td>0</td>\n",
              "      <td>1</td>\n",
              "      <td>0</td>\n",
              "      <td>0</td>\n",
              "      <td>1</td>\n",
              "      <td>0</td>\n",
              "    </tr>\n",
              "    <tr>\n",
              "      <th>38899</th>\n",
              "      <td>66</td>\n",
              "      <td>525.0</td>\n",
              "      <td>3.0</td>\n",
              "      <td>999</td>\n",
              "      <td>0</td>\n",
              "      <td>-3.4</td>\n",
              "      <td>92.649</td>\n",
              "      <td>-30.1</td>\n",
              "      <td>0.715</td>\n",
              "      <td>5099.1</td>\n",
              "      <td>yes</td>\n",
              "      <td>2009</td>\n",
              "      <td>0</td>\n",
              "      <td>0</td>\n",
              "      <td>0</td>\n",
              "      <td>0</td>\n",
              "      <td>0</td>\n",
              "      <td>1</td>\n",
              "      <td>0</td>\n",
              "      <td>0</td>\n",
              "      <td>0</td>\n",
              "      <td>0</td>\n",
              "      <td>0</td>\n",
              "      <td>0</td>\n",
              "      <td>0</td>\n",
              "      <td>0</td>\n",
              "      <td>1</td>\n",
              "      <td>0</td>\n",
              "      <td>1</td>\n",
              "      <td>0</td>\n",
              "      <td>0</td>\n",
              "      <td>0</td>\n",
              "      <td>0</td>\n",
              "      <td>0</td>\n",
              "      <td>0</td>\n",
              "      <td>0</td>\n",
              "      <td>1</td>\n",
              "      <td>0</td>\n",
              "      <td>0</td>\n",
              "      <td>1</td>\n",
              "      <td>0</td>\n",
              "      <td>0</td>\n",
              "      <td>0</td>\n",
              "      <td>0</td>\n",
              "      <td>1</td>\n",
              "      <td>1</td>\n",
              "      <td>0</td>\n",
              "      <td>0</td>\n",
              "      <td>0</td>\n",
              "      <td>0</td>\n",
              "      <td>0</td>\n",
              "      <td>0</td>\n",
              "      <td>0</td>\n",
              "      <td>0</td>\n",
              "      <td>1</td>\n",
              "      <td>0</td>\n",
              "      <td>0</td>\n",
              "      <td>0</td>\n",
              "      <td>0</td>\n",
              "      <td>0</td>\n",
              "      <td>1</td>\n",
              "      <td>0</td>\n",
              "      <td>0</td>\n",
              "      <td>1</td>\n",
              "      <td>0</td>\n",
              "    </tr>\n",
              "    <tr>\n",
              "      <th>8007</th>\n",
              "      <td>58</td>\n",
              "      <td>282.0</td>\n",
              "      <td>5.0</td>\n",
              "      <td>999</td>\n",
              "      <td>0</td>\n",
              "      <td>1.4</td>\n",
              "      <td>94.465</td>\n",
              "      <td>-41.8</td>\n",
              "      <td>4.865</td>\n",
              "      <td>5228.1</td>\n",
              "      <td>no</td>\n",
              "      <td>2008</td>\n",
              "      <td>1</td>\n",
              "      <td>0</td>\n",
              "      <td>0</td>\n",
              "      <td>0</td>\n",
              "      <td>0</td>\n",
              "      <td>0</td>\n",
              "      <td>0</td>\n",
              "      <td>0</td>\n",
              "      <td>0</td>\n",
              "      <td>0</td>\n",
              "      <td>0</td>\n",
              "      <td>0</td>\n",
              "      <td>1</td>\n",
              "      <td>0</td>\n",
              "      <td>0</td>\n",
              "      <td>0</td>\n",
              "      <td>0</td>\n",
              "      <td>0</td>\n",
              "      <td>0</td>\n",
              "      <td>0</td>\n",
              "      <td>0</td>\n",
              "      <td>0</td>\n",
              "      <td>1</td>\n",
              "      <td>0</td>\n",
              "      <td>1</td>\n",
              "      <td>0</td>\n",
              "      <td>0</td>\n",
              "      <td>1</td>\n",
              "      <td>0</td>\n",
              "      <td>0</td>\n",
              "      <td>0</td>\n",
              "      <td>0</td>\n",
              "      <td>1</td>\n",
              "      <td>0</td>\n",
              "      <td>1</td>\n",
              "      <td>0</td>\n",
              "      <td>0</td>\n",
              "      <td>0</td>\n",
              "      <td>0</td>\n",
              "      <td>1</td>\n",
              "      <td>0</td>\n",
              "      <td>0</td>\n",
              "      <td>0</td>\n",
              "      <td>0</td>\n",
              "      <td>0</td>\n",
              "      <td>0</td>\n",
              "      <td>1</td>\n",
              "      <td>0</td>\n",
              "      <td>0</td>\n",
              "      <td>0</td>\n",
              "      <td>0</td>\n",
              "      <td>1</td>\n",
              "      <td>0</td>\n",
              "    </tr>\n",
              "  </tbody>\n",
              "</table>\n",
              "</div>"
            ],
            "text/plain": [
              "       age  duration  ...  poutcome_nonexistent  poutcome_success\n",
              "14562   34     182.0  ...                     1                 0\n",
              "38899   66     525.0  ...                     1                 0\n",
              "8007    58     282.0  ...                     1                 0\n",
              "\n",
              "[3 rows x 65 columns]"
            ]
          },
          "metadata": {
            "tags": []
          },
          "execution_count": 55
        }
      ]
    },
    {
      "cell_type": "markdown",
      "metadata": {
        "colab_type": "text",
        "id": "UCykIYtvHGoo"
      },
      "source": [
        "## Logistic Regression Model =========================================================================\n"
      ]
    },
    {
      "cell_type": "markdown",
      "metadata": {
        "colab_type": "text",
        "id": "R-sgpBdqHGoo"
      },
      "source": [
        "### 1.` Normal ` Logistic Regression"
      ]
    },
    {
      "cell_type": "markdown",
      "metadata": {
        "colab_type": "text",
        "id": "UTAKL5ZeHGop"
      },
      "source": [
        "` Duration ` will be droped because of its huge impact and since its mot known beforehand.Also **PCA** decomposition is at play here."
      ]
    },
    {
      "cell_type": "code",
      "metadata": {
        "colab_type": "code",
        "id": "fGLthrnlHGop",
        "colab": {}
      },
      "source": [
        "columnTransformer = ColumnTransformer([\n",
        "                                       ('drop_columns' , 'drop', ['duration']),\n",
        "                                       ('scaler', StandardScaler(),\n",
        "                                        ['age','pdays','previous','emp.var.rate','cons.price.idx',\n",
        "                                         'cons.conf.idx','euribor3m','nr.employed','year']),\n",
        "                                       ], \n",
        "                                      remainder='passthrough')\n",
        "pca = decomposition.PCA()\n",
        "logistic = linear_model.LogisticRegression()"
      ],
      "execution_count": 56,
      "outputs": []
    },
    {
      "cell_type": "markdown",
      "metadata": {
        "colab_type": "text",
        "id": "NNEZ1F2bHGor"
      },
      "source": [
        "Create ` pipeline `"
      ]
    },
    {
      "cell_type": "code",
      "metadata": {
        "colab_type": "code",
        "id": "evdsR4ksHGos",
        "colab": {}
      },
      "source": [
        "normal_pipeline_logistic=Pipeline([(\"preprocessing\", columnTransformer),\n",
        "                     ('pca3',pca),\n",
        "                     ('logistic',logistic)])"
      ],
      "execution_count": 64,
      "outputs": []
    },
    {
      "cell_type": "markdown",
      "metadata": {
        "colab_type": "text",
        "id": "AEOtJvKXHGoy"
      },
      "source": [
        "Split ` data ` and ` fit ` into model."
      ]
    },
    {
      "cell_type": "code",
      "metadata": {
        "colab_type": "code",
        "id": "feHsRWwlTpBp",
        "colab": {}
      },
      "source": [
        "data"
      ],
      "execution_count": null,
      "outputs": []
    },
    {
      "cell_type": "code",
      "metadata": {
        "colab_type": "code",
        "id": "cr1L6N8HHGoz",
        "colab": {}
      },
      "source": [
        "target = data['y']\n",
        "features = data.drop(['y'], axis=1)\n",
        "\n",
        "X_train,X_test,y_train,y_test=train_test_split(features,target,test_size=0.2,random_state=42)\n"
      ],
      "execution_count": 61,
      "outputs": []
    },
    {
      "cell_type": "code",
      "metadata": {
        "id": "PlyrXx9-8jvm",
        "colab_type": "code",
        "colab": {
          "base_uri": "https://localhost:8080/",
          "height": 493
        },
        "outputId": "ac5e687d-f0cb-4dce-8bbb-a87c91f26276"
      },
      "source": [
        "pipeline_logistic.fit(X_train, y_train)"
      ],
      "execution_count": 62,
      "outputs": [
        {
          "output_type": "execute_result",
          "data": {
            "text/plain": [
              "Pipeline(memory=None,\n",
              "         steps=[('preprocessing',\n",
              "                 ColumnTransformer(n_jobs=None, remainder='passthrough',\n",
              "                                   sparse_threshold=0.3,\n",
              "                                   transformer_weights=None,\n",
              "                                   transformers=[('drop_columns', 'drop',\n",
              "                                                  ['duration']),\n",
              "                                                 ('scaler',\n",
              "                                                  StandardScaler(copy=True,\n",
              "                                                                 with_mean=True,\n",
              "                                                                 with_std=True),\n",
              "                                                  ['age', 'pdays', 'previous',\n",
              "                                                   'emp.var.rate',\n",
              "                                                   'cons.price.idx',\n",
              "                                                   'cons.conf.idx', 'euribor3m',\n",
              "                                                   'nr...\n",
              "                 PCA(copy=True, iterated_power='auto', n_components=None,\n",
              "                     random_state=None, svd_solver='auto', tol=0.0,\n",
              "                     whiten=False)),\n",
              "                ('logistic',\n",
              "                 LogisticRegression(C=1.0, class_weight=None, dual=False,\n",
              "                                    fit_intercept=True, intercept_scaling=1,\n",
              "                                    l1_ratio=None, max_iter=100,\n",
              "                                    multi_class='auto', n_jobs=None,\n",
              "                                    penalty='l2', random_state=None,\n",
              "                                    solver='lbfgs', tol=0.0001, verbose=0,\n",
              "                                    warm_start=False))],\n",
              "         verbose=False)"
            ]
          },
          "metadata": {
            "tags": []
          },
          "execution_count": 62
        }
      ]
    },
    {
      "cell_type": "markdown",
      "metadata": {
        "colab_type": "text",
        "id": "GUVfmHx9HGo3"
      },
      "source": [
        "Make ` predicition ` and test ` accuracy `."
      ]
    },
    {
      "cell_type": "code",
      "metadata": {
        "colab_type": "code",
        "id": "rTbQ0rb4HGo3",
        "colab": {
          "base_uri": "https://localhost:8080/",
          "height": 34
        },
        "outputId": "6b3ca0aa-25b2-4a4e-9219-1a9de81ef7ff"
      },
      "source": [
        "y_pred = normal_pipeline_logistic.predict(X_test)\n",
        "accuracy_score(y_test, y_pred)"
      ],
      "execution_count": 65,
      "outputs": [
        {
          "output_type": "execute_result",
          "data": {
            "text/plain": [
              "0.8963340616654528"
            ]
          },
          "metadata": {
            "tags": []
          },
          "execution_count": 65
        }
      ]
    },
    {
      "cell_type": "markdown",
      "metadata": {
        "colab_type": "text",
        "id": "8G8QAl3yHGo8"
      },
      "source": [
        "### 2.` Grid Search ` Logistic Regression"
      ]
    },
    {
      "cell_type": "markdown",
      "metadata": {
        "colab_type": "text",
        "id": "AmiiGHtrHGo9"
      },
      "source": [
        "Obtaining tthe optimal values of model hyperparameters. We then can search for the best **model**."
      ]
    },
    {
      "cell_type": "markdown",
      "metadata": {
        "colab_type": "text",
        "id": "RvFBX3BBHGo_"
      },
      "source": [
        "First create ` parameters `."
      ]
    },
    {
      "cell_type": "code",
      "metadata": {
        "colab_type": "code",
        "id": "mQvXp-ZTHGo_",
        "colab": {}
      },
      "source": [
        "from sklearn.model_selection import GridSearchCV\n",
        "X=X_train\n",
        "n_components = list(range(1,X.shape[1]+1,1))\n",
        "    # Create a list of values of the regularization parameter\n",
        "C = np.logspace(-4, 4, 50)\n",
        "    # Create a list of options for the regularization penalty\n",
        "penalty = ['l1', 'l2']\n",
        "    # Create a dictionary of all the parameter options \n",
        "    # Note has you can access the parameters of steps of a pipeline by using '__’\n",
        "parameters = dict(#pca__n_components=n_components,\n",
        "                      logistic__C=C,\n",
        "                      logistic__penalty=penalty)"
      ],
      "execution_count": 66,
      "outputs": []
    },
    {
      "cell_type": "markdown",
      "metadata": {
        "colab_type": "text",
        "id": "3bM8uGEfHGpC"
      },
      "source": [
        "Then search for the ` best-model `"
      ]
    },
    {
      "cell_type": "code",
      "metadata": {
        "colab_type": "code",
        "id": "vVpeeIBJHGpC",
        "colab": {}
      },
      "source": [
        "search= GridSearchCV(pipeline_logistic, param_grid=parameters, cv=5,n_jobs=-1,return_train_score=True )\n",
        "logistic_grid=search.fit(X_train,y_train)"
      ],
      "execution_count": 68,
      "outputs": []
    },
    {
      "cell_type": "code",
      "metadata": {
        "colab_type": "code",
        "id": "3lnQCALtHGpG",
        "colab": {
          "base_uri": "https://localhost:8080/",
          "height": 34
        },
        "outputId": "709e2327-0b41-47de-8fd1-85cd7913195a"
      },
      "source": [
        "logistic_grid.best_score_"
      ],
      "execution_count": 69,
      "outputs": [
        {
          "output_type": "execute_result",
          "data": {
            "text/plain": [
              "0.9018816388467374"
            ]
          },
          "metadata": {
            "tags": []
          },
          "execution_count": 69
        }
      ]
    },
    {
      "cell_type": "markdown",
      "metadata": {
        "colab_type": "text",
        "id": "TMbXjdHSHGpK"
      },
      "source": [
        "Make ` predicition ` and test ` accuracy `."
      ]
    },
    {
      "cell_type": "code",
      "metadata": {
        "colab_type": "code",
        "id": "UIIXs9DaHGpK",
        "colab": {
          "base_uri": "https://localhost:8080/",
          "height": 34
        },
        "outputId": "46e4fd4b-dc3b-42d5-d3ed-8c72a3dbbe5d"
      },
      "source": [
        "y_pred = logistic_grid.predict(X_test)\n",
        "accuracy_score(y_test, y_pred)"
      ],
      "execution_count": 72,
      "outputs": [
        {
          "output_type": "execute_result",
          "data": {
            "text/plain": [
              "0.8974265598446225"
            ]
          },
          "metadata": {
            "tags": []
          },
          "execution_count": 72
        }
      ]
    },
    {
      "cell_type": "markdown",
      "metadata": {
        "colab_type": "text",
        "id": "7dOuHfMIHGpX"
      },
      "source": [
        "## XGBoost Model ========================================================================="
      ]
    },
    {
      "cell_type": "markdown",
      "metadata": {
        "id": "_hQ5-2CLBAJB",
        "colab_type": "text"
      },
      "source": [
        "Creaate **XGBOOST** model and feed into pipeline."
      ]
    },
    {
      "cell_type": "code",
      "metadata": {
        "colab_type": "code",
        "id": "K_q6TkzllK0j",
        "colab": {}
      },
      "source": [
        "model = xgboost.XGBClassifier()\n",
        "pipeline_xgboost=Pipeline([(\"preprocessing\", columnTransformer),\n",
        "                     ('pca3',pca),\n",
        "                     ('xgboost',model)])"
      ],
      "execution_count": 77,
      "outputs": []
    },
    {
      "cell_type": "markdown",
      "metadata": {
        "id": "5lZkF3SuCOw7",
        "colab_type": "text"
      },
      "source": [
        "Then train model"
      ]
    },
    {
      "cell_type": "code",
      "metadata": {
        "colab_type": "code",
        "id": "z4S7GviaxRAs",
        "colab": {}
      },
      "source": [
        "pipeline_xgboost=pipeline_xgboost.fit(X_train,y_train)"
      ],
      "execution_count": 79,
      "outputs": []
    },
    {
      "cell_type": "code",
      "metadata": {
        "id": "7hGAJOWPFrcM",
        "colab_type": "code",
        "colab": {
          "base_uri": "https://localhost:8080/",
          "height": 34
        },
        "outputId": "8fd4a2c5-d4f7-4bfa-f02b-593e79f17869"
      },
      "source": [
        "y_pred = pipeline_xgboost.predict(X_test)\n",
        "accuracy_score(y_test, y_pred)"
      ],
      "execution_count": 103,
      "outputs": [
        {
          "output_type": "execute_result",
          "data": {
            "text/plain": [
              "0.896698227725176"
            ]
          },
          "metadata": {
            "tags": []
          },
          "execution_count": 103
        }
      ]
    },
    {
      "cell_type": "markdown",
      "metadata": {
        "colab_type": "text",
        "id": "nfruW42LHGpY"
      },
      "source": [
        "## Multilayer Perceptron Model ========================================================================="
      ]
    },
    {
      "cell_type": "markdown",
      "metadata": {
        "id": "AiKrGAK6GhVa",
        "colab_type": "text"
      },
      "source": [
        "Create model first as always and then fit into model."
      ]
    },
    {
      "cell_type": "code",
      "metadata": {
        "colab_type": "code",
        "id": "hl5FmYH-BNLM",
        "colab": {}
      },
      "source": [
        "clf = MLPClassifier(hidden_layer_sizes=(100,100,100), max_iter=10, alpha=0.0001,\n",
        "                     solver='sgd',   random_state=21,tol=0.000000001)\n",
        "\n",
        "\n",
        "pipeline_mlp=Pipeline([(\"preprocessing\", columnTransformer),\n",
        "                     ('pca3',pca),\n",
        "                     ('MLP',clf)])"
      ],
      "execution_count": 100,
      "outputs": []
    },
    {
      "cell_type": "code",
      "metadata": {
        "colab_type": "code",
        "id": "D2gufZvRHGpc",
        "colab": {}
      },
      "source": [
        "pipeline_mlp=pipeline_mlp.fit(X_train,y_train)\n"
      ],
      "execution_count": 101,
      "outputs": []
    },
    {
      "cell_type": "markdown",
      "metadata": {
        "id": "l1aE2BAlRRCT",
        "colab_type": "text"
      },
      "source": [
        "Fit and test for accuracy."
      ]
    },
    {
      "cell_type": "code",
      "metadata": {
        "id": "VZbiLl_MHQ09",
        "colab_type": "code",
        "colab": {
          "base_uri": "https://localhost:8080/",
          "height": 34
        },
        "outputId": "2fabdbb7-28dc-4978-e067-5d6cd4f7f003"
      },
      "source": [
        "y_pred = pipeline_mlp.predict(X_test)\n",
        "accuracy_score(y_test, y_pred)"
      ],
      "execution_count": 106,
      "outputs": [
        {
          "output_type": "execute_result",
          "data": {
            "text/plain": [
              "0.8964554503520272"
            ]
          },
          "metadata": {
            "tags": []
          },
          "execution_count": 106
        }
      ]
    },
    {
      "cell_type": "markdown",
      "metadata": {
        "id": "z38PUvJsHxEa",
        "colab_type": "text"
      },
      "source": [
        "# Cross-validation"
      ]
    },
    {
      "cell_type": "markdown",
      "metadata": {
        "id": "dVEHhyx-IUyk",
        "colab_type": "text"
      },
      "source": [
        "Finally we can compare our models and take the one with highest accuracy."
      ]
    },
    {
      "cell_type": "code",
      "metadata": {
        "id": "QAK6YRCJCXGD",
        "colab_type": "code",
        "colab": {
          "base_uri": "https://localhost:8080/",
          "height": 299
        },
        "outputId": "5961ea16-03af-474e-d493-72fb325a2773"
      },
      "source": [
        "from model import validator"
      ],
      "execution_count": 95,
      "outputs": [
        {
          "output_type": "error",
          "ename": "ImportError",
          "evalue": "ignored",
          "traceback": [
            "\u001b[0;31m---------------------------------------------------------------------------\u001b[0m",
            "\u001b[0;31mImportError\u001b[0m                               Traceback (most recent call last)",
            "\u001b[0;32m<ipython-input-95-6f06bd73dc7d>\u001b[0m in \u001b[0;36m<module>\u001b[0;34m()\u001b[0m\n\u001b[0;32m----> 1\u001b[0;31m \u001b[0;32mfrom\u001b[0m \u001b[0mmodel\u001b[0m \u001b[0;32mimport\u001b[0m \u001b[0mvalidator\u001b[0m\u001b[0;34m\u001b[0m\u001b[0;34m\u001b[0m\u001b[0m\n\u001b[0m",
            "\u001b[0;31mImportError\u001b[0m: cannot import name 'validator'",
            "",
            "\u001b[0;31m---------------------------------------------------------------------------\u001b[0;32m\nNOTE: If your import is failing due to a missing package, you can\nmanually install dependencies using either !pip or !apt.\n\nTo view examples of installing some common dependencies, click the\n\"Open Examples\" button below.\n\u001b[0;31m---------------------------------------------------------------------------\u001b[0m\n"
          ]
        }
      ]
    },
    {
      "cell_type": "code",
      "metadata": {
        "id": "CfEVmsx7H7Sx",
        "colab_type": "code",
        "colab": {}
      },
      "source": [
        "def cross_validator (model,stratified=False):\n",
        "  \n",
        "  target = data['y']\n",
        "  features = data.drop(['y'], axis=1)\n",
        "  if(stratified):\n",
        "    kfold = StratifiedKFold(n_splits=5, random_state=7)\n",
        "  else:\n",
        "    kfold= KFold(n_splits=5, random_state=7)\n",
        "\n",
        "  results = cross_val_score(model, features, target, cv=kfold)\n",
        "  print(\"Accuracy: %.4f%% (%.4f%%)\" % (results.mean()*100, results.std()*100))\n",
        "  return (results.mean()*100, results.std()*100)"
      ],
      "execution_count": 109,
      "outputs": []
    },
    {
      "cell_type": "code",
      "metadata": {
        "id": "q1uWp3rbJdz7",
        "colab_type": "code",
        "colab": {}
      },
      "source": [
        "models=[normal_pipeline_logistic,pipeline_xgboost,pipeline_mlp,logistic_grid]"
      ],
      "execution_count": 112,
      "outputs": []
    },
    {
      "cell_type": "code",
      "metadata": {
        "id": "vEBpf_vEK1sa",
        "colab_type": "code",
        "colab": {
          "base_uri": "https://localhost:8080/",
          "height": 1000
        },
        "outputId": "f8dc880a-4a79-45c8-9381-f79cd790a23a"
      },
      "source": [
        "k_fold = {} \n",
        "for i in models:\n",
        "  k_fold[i] = cross_validator(i) \n",
        "print (\"Resultant dictionary is : \" +  str(k_fold)) "
      ],
      "execution_count": 122,
      "outputs": [
        {
          "output_type": "stream",
          "text": [
            "Accuracy: 88.9138% (9.7673%)\n",
            "Accuracy: 75.9738% (24.1238%)\n",
            "Accuracy: 88.7390% (10.1237%)\n",
            "Accuracy: 88.7341% (10.1236%)\n",
            "Resultant dictionary is : {Pipeline(memory=None,\n",
            "         steps=[('preprocessing',\n",
            "                 ColumnTransformer(n_jobs=None, remainder='passthrough',\n",
            "                                   sparse_threshold=0.3,\n",
            "                                   transformer_weights=None,\n",
            "                                   transformers=[('drop_columns', 'drop',\n",
            "                                                  ['duration']),\n",
            "                                                 ('scaler',\n",
            "                                                  StandardScaler(copy=True,\n",
            "                                                                 with_mean=True,\n",
            "                                                                 with_std=True),\n",
            "                                                  ['age', 'pdays', 'previous',\n",
            "                                                   'emp.var.rate',\n",
            "                                                   'cons.price.idx',\n",
            "                                                   'cons.conf.idx', 'euribor3m',\n",
            "                                                   'nr...\n",
            "                 PCA(copy=True, iterated_power='auto', n_components=None,\n",
            "                     random_state=None, svd_solver='auto', tol=0.0,\n",
            "                     whiten=False)),\n",
            "                ('logistic',\n",
            "                 LogisticRegression(C=1.0, class_weight=None, dual=False,\n",
            "                                    fit_intercept=True, intercept_scaling=1,\n",
            "                                    l1_ratio=None, max_iter=100,\n",
            "                                    multi_class='auto', n_jobs=None,\n",
            "                                    penalty='l2', random_state=None,\n",
            "                                    solver='lbfgs', tol=0.0001, verbose=0,\n",
            "                                    warm_start=False))],\n",
            "         verbose=False): (88.91378951016063, 9.767321524577513), Pipeline(memory=None,\n",
            "         steps=[('preprocessing',\n",
            "                 ColumnTransformer(n_jobs=None, remainder='passthrough',\n",
            "                                   sparse_threshold=0.3,\n",
            "                                   transformer_weights=None,\n",
            "                                   transformers=[('drop_columns', 'drop',\n",
            "                                                  ['duration']),\n",
            "                                                 ('scaler',\n",
            "                                                  StandardScaler(copy=True,\n",
            "                                                                 with_mean=True,\n",
            "                                                                 with_std=True),\n",
            "                                                  ['age', 'pdays', 'previous',\n",
            "                                                   'emp.var.rate',\n",
            "                                                   'cons.price.idx',\n",
            "                                                   'cons.conf.idx', 'euribor3m',\n",
            "                                                   'nr...\n",
            "                 XGBClassifier(base_score=0.5, booster='gbtree',\n",
            "                               colsample_bylevel=1, colsample_bynode=1,\n",
            "                               colsample_bytree=1, gamma=0, learning_rate=0.1,\n",
            "                               max_delta_step=0, max_depth=3,\n",
            "                               min_child_weight=1, missing=None,\n",
            "                               n_estimators=100, n_jobs=1, nthread=None,\n",
            "                               objective='binary:logistic', random_state=0,\n",
            "                               reg_alpha=0, reg_lambda=1, scale_pos_weight=1,\n",
            "                               seed=None, silent=None, subsample=1,\n",
            "                               verbosity=1))],\n",
            "         verbose=False): (75.97378971117332, 24.123822694730684), Pipeline(memory=None,\n",
            "         steps=[('preprocessing',\n",
            "                 ColumnTransformer(n_jobs=None, remainder='passthrough',\n",
            "                                   sparse_threshold=0.3,\n",
            "                                   transformer_weights=None,\n",
            "                                   transformers=[('drop_columns', 'drop',\n",
            "                                                  ['duration']),\n",
            "                                                 ('scaler',\n",
            "                                                  StandardScaler(copy=True,\n",
            "                                                                 with_mean=True,\n",
            "                                                                 with_std=True),\n",
            "                                                  ['age', 'pdays', 'previous',\n",
            "                                                   'emp.var.rate',\n",
            "                                                   'cons.price.idx',\n",
            "                                                   'cons.conf.idx', 'euribor3m',\n",
            "                                                   'nr...\n",
            "                               batch_size='auto', beta_1=0.9, beta_2=0.999,\n",
            "                               early_stopping=False, epsilon=1e-08,\n",
            "                               hidden_layer_sizes=(100, 100, 100),\n",
            "                               learning_rate='constant',\n",
            "                               learning_rate_init=0.001, max_fun=15000,\n",
            "                               max_iter=10, momentum=0.9, n_iter_no_change=10,\n",
            "                               nesterovs_momentum=True, power_t=0.5,\n",
            "                               random_state=21, shuffle=True, solver='sgd',\n",
            "                               tol=1e-09, validation_fraction=0.1,\n",
            "                               verbose=False, warm_start=False))],\n",
            "         verbose=False): (88.7389685802104, 10.12369390339941), GridSearchCV(cv=5, error_score=nan,\n",
            "             estimator=Pipeline(memory=None,\n",
            "                                steps=[('preprocessing',\n",
            "                                        ColumnTransformer(n_jobs=None,\n",
            "                                                          remainder='passthrough',\n",
            "                                                          sparse_threshold=0.3,\n",
            "                                                          transformer_weights=None,\n",
            "                                                          transformers=[('drop_columns',\n",
            "                                                                         'drop',\n",
            "                                                                         ['duration']),\n",
            "                                                                        ('scaler',\n",
            "                                                                         StandardScaler(copy=True,\n",
            "                                                                                        with_mean=True,\n",
            "                                                                                        with_std=True),\n",
            "                                                                         ['age',\n",
            "                                                                          'pdays',\n",
            "                                                                          'previous',\n",
            "                                                                          'emp.var.rate',\n",
            "                                                                          'con...\n",
            "       1.67683294e+01, 2.44205309e+01, 3.55648031e+01, 5.17947468e+01,\n",
            "       7.54312006e+01, 1.09854114e+02, 1.59985872e+02, 2.32995181e+02,\n",
            "       3.39322177e+02, 4.94171336e+02, 7.19685673e+02, 1.04811313e+03,\n",
            "       1.52641797e+03, 2.22299648e+03, 3.23745754e+03, 4.71486636e+03,\n",
            "       6.86648845e+03, 1.00000000e+04]),\n",
            "                         'logistic__penalty': ['l1', 'l2']},\n",
            "             pre_dispatch='2*n_jobs', refit=True, return_train_score=True,\n",
            "             scoring=None, verbose=0): (88.73411244326735, 10.123596236365099)}\n"
          ],
          "name": "stdout"
        }
      ]
    },
    {
      "cell_type": "code",
      "metadata": {
        "id": "yIaeUuOURBvV",
        "colab_type": "code",
        "colab": {
          "base_uri": "https://localhost:8080/",
          "height": 1000
        },
        "outputId": "98f270a4-7bf4-43e7-c502-0a9b0f852346"
      },
      "source": [
        "stratified = {} \n",
        "for i in models:\n",
        "  res[i] = cross_validator(i,True) \n",
        "print (\"Resultant dictionary is : \" +  str(res)) "
      ],
      "execution_count": 114,
      "outputs": [
        {
          "output_type": "stream",
          "text": [
            "Accuracy: 60.0360% (24.1158%)\n",
            "Accuracy: 51.6155% (30.9456%)\n",
            "Accuracy: 82.7615% (12.2143%)\n",
            "Accuracy: 84.2524% (8.9648%)\n",
            "Resultant dictionary is : {Pipeline(memory=None,\n",
            "         steps=[('preprocessing',\n",
            "                 ColumnTransformer(n_jobs=None, remainder='passthrough',\n",
            "                                   sparse_threshold=0.3,\n",
            "                                   transformer_weights=None,\n",
            "                                   transformers=[('drop_columns', 'drop',\n",
            "                                                  ['duration']),\n",
            "                                                 ('scaler',\n",
            "                                                  StandardScaler(copy=True,\n",
            "                                                                 with_mean=True,\n",
            "                                                                 with_std=True),\n",
            "                                                  ['age', 'pdays', 'previous',\n",
            "                                                   'emp.var.rate',\n",
            "                                                   'cons.price.idx',\n",
            "                                                   'cons.conf.idx', 'euribor3m',\n",
            "                                                   'nr...\n",
            "                 PCA(copy=True, iterated_power='auto', n_components=None,\n",
            "                     random_state=None, svd_solver='auto', tol=0.0,\n",
            "                     whiten=False)),\n",
            "                ('logistic',\n",
            "                 LogisticRegression(C=1.0, class_weight=None, dual=False,\n",
            "                                    fit_intercept=True, intercept_scaling=1,\n",
            "                                    l1_ratio=None, max_iter=100,\n",
            "                                    multi_class='auto', n_jobs=None,\n",
            "                                    penalty='l2', random_state=None,\n",
            "                                    solver='lbfgs', tol=0.0001, verbose=0,\n",
            "                                    warm_start=False))],\n",
            "         verbose=False): (60.03604464403847, 24.115796928752104), Pipeline(memory=None,\n",
            "         steps=[('preprocessing',\n",
            "                 ColumnTransformer(n_jobs=None, remainder='passthrough',\n",
            "                                   sparse_threshold=0.3,\n",
            "                                   transformer_weights=None,\n",
            "                                   transformers=[('drop_columns', 'drop',\n",
            "                                                  ['duration']),\n",
            "                                                 ('scaler',\n",
            "                                                  StandardScaler(copy=True,\n",
            "                                                                 with_mean=True,\n",
            "                                                                 with_std=True),\n",
            "                                                  ['age', 'pdays', 'previous',\n",
            "                                                   'emp.var.rate',\n",
            "                                                   'cons.price.idx',\n",
            "                                                   'cons.conf.idx', 'euribor3m',\n",
            "                                                   'nr...\n",
            "                 XGBClassifier(base_score=0.5, booster='gbtree',\n",
            "                               colsample_bylevel=1, colsample_bynode=1,\n",
            "                               colsample_bytree=1, gamma=0, learning_rate=0.1,\n",
            "                               max_delta_step=0, max_depth=3,\n",
            "                               min_child_weight=1, missing=None,\n",
            "                               n_estimators=100, n_jobs=1, nthread=None,\n",
            "                               objective='binary:logistic', random_state=0,\n",
            "                               reg_alpha=0, reg_lambda=1, scale_pos_weight=1,\n",
            "                               seed=None, silent=None, subsample=1,\n",
            "                               verbosity=1))],\n",
            "         verbose=False): (51.615503479509364, 30.945619843927748), Pipeline(memory=None,\n",
            "         steps=[('preprocessing',\n",
            "                 ColumnTransformer(n_jobs=None, remainder='passthrough',\n",
            "                                   sparse_threshold=0.3,\n",
            "                                   transformer_weights=None,\n",
            "                                   transformers=[('drop_columns', 'drop',\n",
            "                                                  ['duration']),\n",
            "                                                 ('scaler',\n",
            "                                                  StandardScaler(copy=True,\n",
            "                                                                 with_mean=True,\n",
            "                                                                 with_std=True),\n",
            "                                                  ['age', 'pdays', 'previous',\n",
            "                                                   'emp.var.rate',\n",
            "                                                   'cons.price.idx',\n",
            "                                                   'cons.conf.idx', 'euribor3m',\n",
            "                                                   'nr...\n",
            "                               batch_size='auto', beta_1=0.9, beta_2=0.999,\n",
            "                               early_stopping=False, epsilon=1e-08,\n",
            "                               hidden_layer_sizes=(100, 100, 100),\n",
            "                               learning_rate='constant',\n",
            "                               learning_rate_init=0.001, max_fun=15000,\n",
            "                               max_iter=10, momentum=0.9, n_iter_no_change=10,\n",
            "                               nesterovs_momentum=True, power_t=0.5,\n",
            "                               random_state=21, shuffle=True, solver='sgd',\n",
            "                               tol=1e-09, validation_fraction=0.1,\n",
            "                               verbose=False, warm_start=False))],\n",
            "         verbose=False): (82.76152998730879, 12.214256110786234), GridSearchCV(cv=5, error_score=nan,\n",
            "             estimator=Pipeline(memory=None,\n",
            "                                steps=[('preprocessing',\n",
            "                                        ColumnTransformer(n_jobs=None,\n",
            "                                                          remainder='passthrough',\n",
            "                                                          sparse_threshold=0.3,\n",
            "                                                          transformer_weights=None,\n",
            "                                                          transformers=[('drop_columns',\n",
            "                                                                         'drop',\n",
            "                                                                         ['duration']),\n",
            "                                                                        ('scaler',\n",
            "                                                                         StandardScaler(copy=True,\n",
            "                                                                                        with_mean=True,\n",
            "                                                                                        with_std=True),\n",
            "                                                                         ['age',\n",
            "                                                                          'pdays',\n",
            "                                                                          'previous',\n",
            "                                                                          'emp.var.rate',\n",
            "                                                                          'con...\n",
            "       1.67683294e+01, 2.44205309e+01, 3.55648031e+01, 5.17947468e+01,\n",
            "       7.54312006e+01, 1.09854114e+02, 1.59985872e+02, 2.32995181e+02,\n",
            "       3.39322177e+02, 4.94171336e+02, 7.19685673e+02, 1.04811313e+03,\n",
            "       1.52641797e+03, 2.22299648e+03, 3.23745754e+03, 4.71486636e+03,\n",
            "       6.86648845e+03, 1.00000000e+04]),\n",
            "                         'logistic__penalty': ['l1', 'l2']},\n",
            "             pre_dispatch='2*n_jobs', refit=True, return_train_score=True,\n",
            "             scoring=None, verbose=0): (84.25236844992942, 8.96483909067854)}\n"
          ],
          "name": "stdout"
        }
      ]
    },
    {
      "cell_type": "markdown",
      "metadata": {
        "id": "nfIkWSKzXGti",
        "colab_type": "text"
      },
      "source": [
        "It can be seen that  **k-fold** performs more than **stratified k-fold.**"
      ]
    },
    {
      "cell_type": "markdown",
      "metadata": {
        "id": "PMqPNmnXXeRx",
        "colab_type": "text"
      },
      "source": [
        "**Stratified K-fold**"
      ]
    },
    {
      "cell_type": "code",
      "metadata": {
        "id": "eSnmZ-yKWy87",
        "colab_type": "code",
        "colab": {
          "base_uri": "https://localhost:8080/",
          "height": 85
        },
        "outputId": "61cf0130-8749-4d93-e50d-93541eac5be1"
      },
      "source": [
        "print(\"normal_pipeline_logistic\"+str(res[normal_pipeline_logistic]))\n",
        "print(\"pipeline_xgboost\"+str(res[pipeline_xgboost]))\n",
        "print(\"pipeline_mlp\"+str(res[pipeline_mlp]))\n",
        "print(\"logistic_grid\"+str(res[logistic_grid]))"
      ],
      "execution_count": 119,
      "outputs": [
        {
          "output_type": "stream",
          "text": [
            "normal_pipeline_logistic(60.03604464403847, 24.115796928752104)\n",
            "pipeline_xgboost(51.615503479509364, 30.945619843927748)\n",
            "pipeline_mlp(82.76152998730879, 12.214256110786234)\n",
            "logistic_grid(84.25236844992942, 8.96483909067854)\n"
          ],
          "name": "stdout"
        }
      ]
    },
    {
      "cell_type": "markdown",
      "metadata": {
        "id": "f3Jr9bw5Y0BS",
        "colab_type": "text"
      },
      "source": [
        "**K-Fold**"
      ]
    },
    {
      "cell_type": "code",
      "metadata": {
        "id": "OHE5txFsYzCS",
        "colab_type": "code",
        "colab": {
          "base_uri": "https://localhost:8080/",
          "height": 85
        },
        "outputId": "e89b3231-8bdf-45f1-9227-b2e824a8708b"
      },
      "source": [
        "print(\"normal_pipeline_logistic\"+str(k_fold[normal_pipeline_logistic]))\n",
        "print(\"pipeline_xgboost\"+str(k_fold[pipeline_xgboost]))\n",
        "print(\"pipeline_mlp\"+str(k_fold[pipeline_mlp]))\n",
        "print(\"logistic_grid\"+str(k_fold[logistic_grid]))"
      ],
      "execution_count": 123,
      "outputs": [
        {
          "output_type": "stream",
          "text": [
            "normal_pipeline_logistic(88.91378951016063, 9.767321524577513)\n",
            "pipeline_xgboost(75.97378971117332, 24.123822694730684)\n",
            "pipeline_mlp(88.7389685802104, 10.12369390339941)\n",
            "logistic_grid(88.73411244326735, 10.123596236365099)\n"
          ],
          "name": "stdout"
        }
      ]
    }
  ]
}